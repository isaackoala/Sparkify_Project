{
 "cells": [
  {
   "cell_type": "markdown",
   "metadata": {},
   "source": [
    "# Sparkify 项目 Workspace\n",
    "这个 Workspace 包括一个迷你的子数据集（128MB），是完整数据集（12GB）的一个子集。在将你的项目部署到云上之前，你可以自由使用 Workspace 来创建你的项目或用Spark来探索这个较小数据集。设置 Spark 集群的指南可以在选修 Spark 课程的内容里找到。\n",
    "\n",
    "你可以依照下面的步骤进行项目的数据分析和模型搭建部分。"
   ]
  },
  {
   "cell_type": "code",
   "execution_count": 1,
   "metadata": {},
   "outputs": [],
   "source": [
    "# import pyspark related libraries\n",
    "from pyspark.sql.functions import avg, col, concat, desc, explode, lit, min,\\\n",
    "    max, split, sum, sumDistinct,udf\n",
    "# http://spark.apache.org/docs/latest/api/python/pyspark.sql.html#module-pyspark.sql.functions\n",
    "from pyspark.sql.types import IntegerType\n",
    "# http://spark.apache.org/docs/latest/api/python/pyspark.sql.html#module-pyspark.sql.types\n",
    "from pyspark.sql import Window\n",
    "# http://spark.apache.org/docs/latest/api/python/pyspark.sql.html#pyspark.sql.Window\n",
    "from pyspark.sql import SparkSession\n",
    "# http://spark.apache.org/docs/latest/api/python/pyspark.sql.html#pyspark.sql.SparkSession\n",
    "\n",
    "from pyspark.ml import Pipeline\n",
    "# http://spark.apache.org/docs/latest/api/python/pyspark.ml.html#module-pyspark.ml\n",
    "from pyspark.ml.classification import LogisticRegression, GBTClassifier, LinearSVC,\\\n",
    "    RandomForestClassifier\n",
    "# http://spark.apache.org/docs/latest/api/python/pyspark.ml.html#module-pyspark.ml.classification\n",
    "from pyspark.ml.evaluation import MulticlassClassificationEvaluator\n",
    "# http://spark.apache.org/docs/latest/api/python/pyspark.ml.html#module-pyspark.ml.evaluation\n",
    "from pyspark.ml.feature import StandardScaler, VectorAssembler\n",
    "# http://spark.apache.org/docs/latest/api/python/pyspark.ml.html#module-pyspark.ml.feature\n",
    "from pyspark.ml.tuning import CrossValidator, ParamGridBuilder\n",
    "# http://spark.apache.org/docs/latest/api/python/pyspark.ml.html#module-pyspark.ml.tuning\n",
    "\n",
    "# import pandas, matplotlib, and seaborn for visualization and EDA\n",
    "import pandas as pd\n",
    "import numpy as np\n",
    "import matplotlib.pyplot as plt\n",
    "import seaborn as sns\n",
    "\n",
    "# import datetime for parsing datetime object\n",
    "import datetime\n",
    "# https://docs.python.org/3/library/datetime.html\n",
    "from time import time\n",
    "# https://docs.python.org/3/library/time.html"
   ]
  },
  {
   "cell_type": "code",
   "execution_count": 2,
   "metadata": {},
   "outputs": [],
   "source": [
    "# create a Spark session\n",
    "spark = SparkSession.builder.getOrCreate()"
   ]
  },
  {
   "cell_type": "markdown",
   "metadata": {},
   "source": [
    "# 加载和清洗数据\n",
    "在这个 Workspace 中，小数据集的名称是 `mini_sparkify_event_data.json`.加载和清洗数据集，检查是否有无效或缺失数据——例如，没有userid或sessionid的数据。 "
   ]
  },
  {
   "cell_type": "code",
   "execution_count": 3,
   "metadata": {},
   "outputs": [
    {
     "data": {
      "text/plain": [
       "Row(artist='Martha Tilston', auth='Logged In', firstName='Colin', gender='M', itemInSession=50, lastName='Freeman', length=277.89016, level='paid', location='Bakersfield, CA', method='PUT', page='NextSong', registration=1538173362000, sessionId=29, song='Rockpools', status=200, ts=1538352117000, userAgent='Mozilla/5.0 (Windows NT 6.1; WOW64; rv:31.0) Gecko/20100101 Firefox/31.0', userId='30')"
      ]
     },
     "execution_count": 3,
     "metadata": {},
     "output_type": "execute_result"
    }
   ],
   "source": [
    "# load data(df)\n",
    "df = spark.read.json('mini_sparkify_event_data.json')\n",
    "# show the first row of df\n",
    "df.head()\n",
    "# https://blog.csdn.net/yisun123456/article/details/90677924"
   ]
  },
  {
   "cell_type": "code",
   "execution_count": 4,
   "metadata": {},
   "outputs": [
    {
     "name": "stdout",
     "output_type": "stream",
     "text": [
      "root\n",
      " |-- artist: string (nullable = true)\n",
      " |-- auth: string (nullable = true)\n",
      " |-- firstName: string (nullable = true)\n",
      " |-- gender: string (nullable = true)\n",
      " |-- itemInSession: long (nullable = true)\n",
      " |-- lastName: string (nullable = true)\n",
      " |-- length: double (nullable = true)\n",
      " |-- level: string (nullable = true)\n",
      " |-- location: string (nullable = true)\n",
      " |-- method: string (nullable = true)\n",
      " |-- page: string (nullable = true)\n",
      " |-- registration: long (nullable = true)\n",
      " |-- sessionId: long (nullable = true)\n",
      " |-- song: string (nullable = true)\n",
      " |-- status: long (nullable = true)\n",
      " |-- ts: long (nullable = true)\n",
      " |-- userAgent: string (nullable = true)\n",
      " |-- userId: string (nullable = true)\n",
      "\n"
     ]
    }
   ],
   "source": [
    "# show structure of df\n",
    "df.printSchema()\n",
    "# http://spark.apache.org/docs/latest/sql-getting-started.html"
   ]
  },
  {
   "cell_type": "code",
   "execution_count": 5,
   "metadata": {},
   "outputs": [
    {
     "name": "stdout",
     "output_type": "stream",
     "text": [
      "+------+\n",
      "|userId|\n",
      "+------+\n",
      "|      |\n",
      "|    10|\n",
      "|   100|\n",
      "|100001|\n",
      "|100002|\n",
      "+------+\n",
      "only showing top 5 rows\n",
      "\n"
     ]
    }
   ],
   "source": [
    "# clean data & save the cleaned dataframe. \n",
    "## drop the rows in which userId or sessionId is null & save the omitted dataframe. \n",
    "df_clean = df.dropna(how = \"any\", subset = [\"userId\", \"sessionId\"])\n",
    "# http://spark.apache.org/docs/latest/api/python/pyspark.sql.html#pyspark.sql.DataFrame\n",
    "\n",
    "## drop the rows which are duplicated in userId & check the first 5 row of df_clean\n",
    "df_clean.select(\"userId\").dropDuplicates([\"userId\"]).sort(\"userId\").show(5)\n",
    "# http://spark.apache.org/docs/latest/api/python/pyspark.sql.html#pyspark.sql.DataFrame"
   ]
  },
  {
   "cell_type": "code",
   "execution_count": 6,
   "metadata": {},
   "outputs": [
    {
     "data": {
      "text/plain": [
       "(286500, 278154, 8346)"
      ]
     },
     "execution_count": 6,
     "metadata": {},
     "output_type": "execute_result"
    }
   ],
   "source": [
    "# drop empty user\n",
    "df_clean = df_clean.filter(df[\"userId\"] != \"\")\n",
    "# http://spark.apache.org/docs/latest/api/python/pyspark.sql.html#pyspark.sql.DataFrame\n",
    "\n",
    "# comparion with the original dataframe and the clean dataframe\n",
    "df.count(), df_clean.count(), df.count() - df_clean.count()\n",
    "# http://spark.apache.org/docs/latest/api/python/pyspark.sql.html#pyspark.sql.DataFrame\n",
    "# delete 8346 records with null userId"
   ]
  },
  {
   "cell_type": "markdown",
   "metadata": {},
   "source": [
    "# 探索性数据分析\n",
    "当你使用完整数据集时，通过加载小数据集，在 Spark 中完成基础操作来实现探索性数据分析。在这个 Workspace 中，我们已经提供给你一个你可以探索的小数据集。\n",
    "\n",
    "### 定义客户流失\n",
    "\n",
    "在你完成初步分析之后，创建一列 `Churn` 作为模型的标签。我建议你使用 `Cancellation Confirmation` 事件来定义客户流失，该事件在付费或免费客户身上都有发生。作为一个奖励任务，你也可以深入了解 `Downgrade` 事件。\n"
   ]
  },
  {
   "cell_type": "code",
   "execution_count": 7,
   "metadata": {},
   "outputs": [
    {
     "name": "stdout",
     "output_type": "stream",
     "text": [
      "+--------------------+\n",
      "|                page|\n",
      "+--------------------+\n",
      "|               About|\n",
      "|          Add Friend|\n",
      "|     Add to Playlist|\n",
      "|              Cancel|\n",
      "|Cancellation Conf...|\n",
      "|           Downgrade|\n",
      "|               Error|\n",
      "|                Help|\n",
      "|                Home|\n",
      "|              Logout|\n",
      "|            NextSong|\n",
      "|         Roll Advert|\n",
      "|       Save Settings|\n",
      "|            Settings|\n",
      "|    Submit Downgrade|\n",
      "|      Submit Upgrade|\n",
      "|         Thumbs Down|\n",
      "|           Thumbs Up|\n",
      "|             Upgrade|\n",
      "+--------------------+\n",
      "\n"
     ]
    }
   ],
   "source": [
    "# show the distinct items in page column\n",
    "df_clean.select(\"page\").distinct().sort(\"page\").show()\n",
    "# http://spark.apache.org/docs/latest/api/python/pyspark.sql.html#pyspark.sql.DataFrame"
   ]
  },
  {
   "cell_type": "code",
   "execution_count": 8,
   "metadata": {},
   "outputs": [],
   "source": [
    "# create churn\n",
    "# add churn_event column in df_clean\n",
    "churn_label = udf(lambda x: 1 if x == \"Cancellation Confirmation\" else 0, IntegerType())\n",
    "df_clean = df_clean.withColumn(\"churn_event\", churn_label(\"page\"))\n",
    "# http://spark.apache.org/docs/latest/api/python/pyspark.sql.html#pyspark.sql.functions.udf\n",
    "# http://spark.apache.org/docs/latest/api/python/pyspark.sql.html?highlight=withcolumn#pyspark.sql.DataFrame.withColumn\n",
    "# labelled churn event\n",
    "\n",
    "# label user who churned according to churn event\n",
    "window =  Window.partitionBy(\"userId\")\n",
    "# determine who has confirmed and recorde it in churn \n",
    "df_clean = df_clean.withColumn(\"churn\", max(\"churn_event\").over(window))\n",
    "# http://spark.apache.org/docs/latest/api/python/pyspark.sql.html?highlight=withcolumn#pyspark.sql.Window\n",
    "# http://spark.apache.org/docs/latest/api/python/pyspark.sql.html?highlight=over#pyspark.sql.Column.over"
   ]
  },
  {
   "cell_type": "code",
   "execution_count": 9,
   "metadata": {},
   "outputs": [
    {
     "name": "stdout",
     "output_type": "stream",
     "text": [
      "+------+-----+\n",
      "|userId|churn|\n",
      "+------+-----+\n",
      "|100010|    0|\n",
      "|200002|    0|\n",
      "|   125|    1|\n",
      "|   124|    0|\n",
      "|    51|    1|\n",
      "|     7|    0|\n",
      "|    15|    0|\n",
      "|    54|    1|\n",
      "|   155|    0|\n",
      "|100014|    1|\n",
      "|   132|    0|\n",
      "|   154|    0|\n",
      "|   101|    1|\n",
      "|    11|    0|\n",
      "|   138|    0|\n",
      "|300017|    0|\n",
      "|100021|    1|\n",
      "|    29|    1|\n",
      "|    69|    0|\n",
      "|   112|    0|\n",
      "+------+-----+\n",
      "only showing top 20 rows\n",
      "\n"
     ]
    }
   ],
   "source": [
    "# check records on userId and churn columns\n",
    "df_clean.select([\"userId\", \"churn\"]).dropDuplicates().show()"
   ]
  },
  {
   "cell_type": "code",
   "execution_count": 10,
   "metadata": {},
   "outputs": [
    {
     "data": {
      "text/plain": [
       "225"
      ]
     },
     "execution_count": 10,
     "metadata": {},
     "output_type": "execute_result"
    }
   ],
   "source": [
    "# check the number of user\n",
    "df_clean.select([\"userId\"]).dropDuplicates().count()"
   ]
  },
  {
   "cell_type": "code",
   "execution_count": 11,
   "metadata": {},
   "outputs": [],
   "source": [
    "# add time column to df_clean\n",
    "# convert timestamp into time string\n",
    "convert = udf(lambda x: datetime.datetime.fromtimestamp(x / 1000.0).strftime(\"%Y-%m-%d %X\"))\n",
    "# https://www.jb51.net/article/130259.htm\n",
    "# https://blog.csdn.net/p9bl5bxp/article/details/54945920\n",
    "\n",
    "# convert ts/event_time\n",
    "df_clean = df_clean.withColumn('event_time', convert(\"ts\"))\n",
    "# convet registration/add registration_time\n",
    "df_clean = df_clean.withColumn(\"registration_time\", convert(\"registration\"))\n",
    "# http://spark.apache.org/docs/latest/api/python/pyspark.sql.html?highlight=withcolumn#pyspark.sql.DataFrame.withColumn\n",
    "# added time columns when the event take place or registrates"
   ]
  },
  {
   "cell_type": "code",
   "execution_count": 12,
   "metadata": {},
   "outputs": [
    {
     "name": "stdout",
     "output_type": "stream",
     "text": [
      "root\n",
      " |-- artist: string (nullable = true)\n",
      " |-- auth: string (nullable = true)\n",
      " |-- firstName: string (nullable = true)\n",
      " |-- gender: string (nullable = true)\n",
      " |-- itemInSession: long (nullable = true)\n",
      " |-- lastName: string (nullable = true)\n",
      " |-- length: double (nullable = true)\n",
      " |-- level: string (nullable = true)\n",
      " |-- location: string (nullable = true)\n",
      " |-- method: string (nullable = true)\n",
      " |-- page: string (nullable = true)\n",
      " |-- registration: long (nullable = true)\n",
      " |-- sessionId: long (nullable = true)\n",
      " |-- song: string (nullable = true)\n",
      " |-- status: long (nullable = true)\n",
      " |-- ts: long (nullable = true)\n",
      " |-- userAgent: string (nullable = true)\n",
      " |-- userId: string (nullable = true)\n",
      " |-- churn_event: integer (nullable = true)\n",
      " |-- churn: integer (nullable = true)\n",
      " |-- event_time: string (nullable = true)\n",
      " |-- registration_time: string (nullable = true)\n",
      "\n"
     ]
    }
   ],
   "source": [
    "# check data\n",
    "df_clean.printSchema()"
   ]
  },
  {
   "cell_type": "code",
   "execution_count": 13,
   "metadata": {},
   "outputs": [
    {
     "data": {
      "text/plain": [
       "Row(artist='Sleeping With Sirens', auth='Logged In', firstName='Darianna', gender='F', itemInSession=0, lastName='Carpenter', length=202.97098, level='free', location='Bridgeport-Stamford-Norwalk, CT', method='PUT', page='NextSong', registration=1538016340000, sessionId=31, song='Captain Tyin Knots VS Mr Walkway (No Way)', status=200, ts=1539003534000, userAgent='\"Mozilla/5.0 (iPhone; CPU iPhone OS 7_1_2 like Mac OS X) AppleWebKit/537.51.2 (KHTML, like Gecko) Version/7.0 Mobile/11D257 Safari/9537.53\"', userId='100010', churn_event=0, churn=0, event_time='2018-10-08 12:58:54', registration_time='2018-09-27 02:45:40')"
      ]
     },
     "execution_count": 13,
     "metadata": {},
     "output_type": "execute_result"
    }
   ],
   "source": [
    "# check the first row\n",
    "df_clean.head()"
   ]
  },
  {
   "cell_type": "markdown",
   "metadata": {},
   "source": [
    "### 探索数据\n",
    "你定义好客户流失后，就可以执行一些探索性数据分析，观察留存用户和流失用户的行为。你可以首先把这两类用户的数据聚合到一起，观察固定时间内某个特定动作出现的次数或者播放音乐的数量。"
   ]
  },
  {
   "cell_type": "code",
   "execution_count": 14,
   "metadata": {},
   "outputs": [
    {
     "name": "stdout",
     "output_type": "stream",
     "text": [
      "+-----------+--------------------+--------------------+-----+------+-----+-------------------+-------------------+\n",
      "|       page|              artist|                song|level|userId|churn|         event_time|  registration_time|\n",
      "+-----------+--------------------+--------------------+-----+------+-----+-------------------+-------------------+\n",
      "|   NextSong|Sleeping With Sirens|Captain Tyin Knot...| free|100010|    0|2018-10-08 12:58:54|2018-09-27 02:45:40|\n",
      "|   NextSong|Francesca Battist...|Beautiful_ Beauti...| free|100010|    0|2018-10-08 13:02:16|2018-09-27 02:45:40|\n",
      "|   NextSong|              Brutha|          She's Gone| free|100010|    0|2018-10-08 13:05:32|2018-09-27 02:45:40|\n",
      "|  Thumbs Up|                null|                null| free|100010|    0|2018-10-08 13:05:33|2018-09-27 02:45:40|\n",
      "|   NextSong|         Josh Ritter|      Folk Bloodbath| free|100010|    0|2018-10-08 13:09:55|2018-09-27 02:45:40|\n",
      "|   NextSong|               LMFAO|                 Yes| free|100010|    0|2018-10-08 13:15:11|2018-09-27 02:45:40|\n",
      "|   NextSong|         OneRepublic|             Secrets| free|100010|    0|2018-10-08 13:18:14|2018-09-27 02:45:40|\n",
      "|   NextSong|       Dwight Yoakam|      You're The One| free|100010|    0|2018-10-08 13:21:58|2018-09-27 02:45:40|\n",
      "|Roll Advert|                null|                null| free|100010|    0|2018-10-08 13:22:41|2018-09-27 02:45:40|\n",
      "|   NextSong|      The Chordettes|          Mr Sandman| free|100010|    0|2018-10-08 13:25:57|2018-09-27 02:45:40|\n",
      "|   NextSong|Coko featuring Ki...|           I Get Joy| free|100010|    0|2018-10-08 13:28:19|2018-09-27 02:45:40|\n",
      "|   NextSong|            The Cure|     The Final Sound| free|100010|    0|2018-10-08 13:32:28|2018-09-27 02:45:40|\n",
      "|Roll Advert|                null|                null| free|100010|    0|2018-10-08 13:32:51|2018-09-27 02:45:40|\n",
      "|   NextSong|Kid Cudi Vs Crookers|        Day 'N' Nite| free|100010|    0|2018-10-08 13:33:20|2018-09-27 02:45:40|\n",
      "|  Thumbs Up|                null|                null| free|100010|    0|2018-10-08 13:33:21|2018-09-27 02:45:40|\n",
      "|   NextSong|            Yeasayer|                2080| free|100010|    0|2018-10-08 13:36:02|2018-09-27 02:45:40|\n",
      "|   NextSong|             Ben Lee|        Ache For You| free|100010|    0|2018-10-08 13:41:25|2018-09-27 02:45:40|\n",
      "|Roll Advert|                null|                null| free|100010|    0|2018-10-08 13:41:43|2018-09-27 02:45:40|\n",
      "|   NextSong|  ? & The Mysterians|    Just Like A Rose| free|100010|    0|2018-10-08 13:45:30|2018-09-27 02:45:40|\n",
      "|Roll Advert|                null|                null| free|100010|    0|2018-10-08 13:45:31|2018-09-27 02:45:40|\n",
      "+-----------+--------------------+--------------------+-----+------+-----+-------------------+-------------------+\n",
      "only showing top 20 rows\n",
      "\n"
     ]
    }
   ],
   "source": [
    "# show in spark with the columns involved in churn\n",
    "df_clean.select(['page', 'artist', 'song', 'level', 'userId', 'churn',\\\n",
    "                'event_time', 'registration_time']).show()"
   ]
  },
  {
   "cell_type": "code",
   "execution_count": 15,
   "metadata": {},
   "outputs": [
    {
     "data": {
      "image/png": "[encoded data removed]",
      "text/plain": [
       "<matplotlib.figure.Figure at 0x7f4de8a21f60>"
      ]
     },
     "metadata": {},
     "output_type": "display_data"
    }
   ],
   "source": [
    "# visulization\n",
    "# viz number of songs listened\n",
    "# define counts of NextSong as number of songs listened\n",
    "number = df_clean.filter('page == \"NextSong\"').\\\n",
    "                groupby([\"userId\",\"churn\",\"gender\",\"page\"]).count().toPandas()\n",
    "# number.head()\n",
    "# http://spark.apache.org/docs/latest/api/python/pyspark.sql.html?highlight=where#pyspark.sql.DataFrame.filter\n",
    "# http://spark.apache.org/docs/latest/api/python/pyspark.sql.html?highlight=groupby#pyspark.sql.DataFrame.groupby\n",
    "# http://spark.apache.org/docs/latest/api/python/pyspark.sql.html?highlight=count#pyspark.sql.DataFrame.count\n",
    "# http://spark.apache.org/docs/latest/api/python/pyspark.sql.html?highlight=topandas#pyspark.sql.DataFrame.toPandas\n",
    "# user pandas dataframe can save a lot of time\n",
    "\n",
    "number = number.pivot_table(index = ['userId', \"churn\", 'gender'],\\\n",
    "            columns = 'page', values = 'count').reset_index()\n",
    "# number.head()\n",
    "# https://pandas.pydata.org/pandas-docs/stable/reference/api/pandas.DataFrame.pivot.html?highlight=pivot#pandas.DataFrame.pivot\n",
    "# https://pandas.pydata.org/pandas-docs/stable/reference/api/pandas.DataFrame.reset_index.html?highlight=reset_index#pandas.DataFrame.reset_index\n",
    "\n",
    "# Draw a combination of boxplot and kernel density estimate\n",
    "sns.set(style=\"whitegrid\")\n",
    "ax = sns.violinplot(y = 'churn', x = 'NextSong', data = number,\\\n",
    "        hue = 'gender', split=False,  palette=\"Blues_d\", orient = 'h')\n",
    "# http://seaborn.pydata.org/generated/seaborn.violinplot.html#seaborn.violinplot\n",
    "plt.ylabel('Churned or Not?')\n",
    "plt.xlabel('Numbers of Songs Listened')\n",
    "plt.legend(title = 'Gender')\n",
    "plt.title('Comparison of Numbers of Songs Listened on Churn')\n",
    "# https://www.jianshu.com/p/5ae17ace7984\n",
    "sns.despine(ax = ax)\n",
    "# http://seaborn.pydata.org/generated/seaborn.despine.html?highlight=despine#seaborn.despine\n",
    "# Numbers of songs in regard to customers churned and not didn't vary a lot, except a litte bit outliers. "
   ]
  },
  {
   "cell_type": "code",
   "execution_count": 16,
   "metadata": {},
   "outputs": [
    {
     "data": {
      "image/png": "[encoded data removed]",
      "text/plain": [
       "<matplotlib.figure.Figure at 0x7f4de892bdd8>"
      ]
     },
     "metadata": {},
     "output_type": "display_data"
    }
   ],
   "source": [
    "# viz churn on genders\n",
    "# count user who churned or not on gender\n",
    "gender_churn= df_clean.dropDuplicates(['userId','gender']).groupby(['churn',\\\n",
    "                'gender']).count().toPandas()\n",
    "gender_churn.head()\n",
    "# http://spark.apache.org/docs/latest/api/python/pyspark.sql.html?highlight=groupby#pyspark.sql.DataFrame.groupby\n",
    "# http://spark.apache.org/docs/latest/api/python/pyspark.sql.html?highlight=count#pyspark.sql.DataFrame.count\n",
    "# http://spark.apache.org/docs/latest/api/python/pyspark.sql.html?highlight=topandas#pyspark.sql.DataFrame.toPandas\n",
    "\n",
    "sns.set(style=\"whitegrid\")\n",
    "ax = sns.barplot(y = 'churn', x = 'count', hue = 'gender',\\\n",
    "                 data = gender_churn,  palette=\"Blues_d\", orient = 'h')\n",
    "# http://seaborn.pydata.org/generated/seaborn.barplot.html?highlight=barplot#seaborn.barplot\n",
    "plt.ylabel(\"Churned or Not?\")\n",
    "plt.xlabel(\"Count\")\n",
    "plt.legend(title = 'Gender', ncol = 2)\n",
    "plt.title(\"Comparison of Likeliness of Churn on Gender\")\n",
    "sns.despine(ax = ax)\n",
    "# Male customers likely churn than female counterparts"
   ]
  },
  {
   "cell_type": "code",
   "execution_count": 17,
   "metadata": {},
   "outputs": [
    {
     "data": {
      "image/png": "[encoded data removed]",
      "text/plain": [
       "<matplotlib.figure.Figure at 0x7f4de88b9550>"
      ]
     },
     "metadata": {},
     "output_type": "display_data"
    }
   ],
   "source": [
    "# viz churn on user types\n",
    "# count churn on user level\n",
    "level = df_clean.filter('page == \"Cancellation Confirmation\"').\\\n",
    "            groupby('level').count().toPandas()\n",
    "# level.head()\n",
    "# http://spark.apache.org/docs/latest/api/python/pyspark.sql.html?highlight=where#pyspark.sql.DataFrame.filter\n",
    "# http://spark.apache.org/docs/latest/api/python/pyspark.sql.html?highlight=groupby#pyspark.sql.DataFrame.groupby\n",
    "# http://spark.apache.org/docs/latest/api/python/pyspark.sql.html?highlight=count#pyspark.sql.DataFrame.count\n",
    "# http://spark.apache.org/docs/latest/api/python/pyspark.sql.html?highlight=topandas#pyspark.sql.DataFrame.toPandas\\\n",
    "\n",
    "ax = sns.barplot(x = 'level', y = 'count', data = level,  palette=\"Blues_d\")\n",
    "plt.xlabel('Churn on User Level')\n",
    "plt.ylabel('Count')\n",
    "plt.title('Comparison of User Level on Churn')\n",
    "sns.despine(ax = ax)\n",
    "# Churn Usually Happens When a Customer Is Using a Paid Plan"
   ]
  },
  {
   "cell_type": "code",
   "execution_count": 18,
   "metadata": {},
   "outputs": [
    {
     "data": {
      "image/png": "[encoded data removed]",
      "text/plain": [
       "<matplotlib.figure.Figure at 0x7f4de8a27c18>"
      ]
     },
     "metadata": {},
     "output_type": "display_data"
    }
   ],
   "source": [
    "# viz churn on user lifetime\n",
    "# create lifetime column for lifetime dataframe\n",
    "lifetime = df_clean.select('userId', 'registration', 'ts', 'churn', 'gender')\\\n",
    "    .withColumn('lifetime', (df_clean.ts-df_clean.registration))\n",
    "# lifetime.show()\n",
    "# http://spark.apache.org/docs/latest/api/python/pyspark.sql.html?highlight=withcolumn#pyspark.sql.DataFrame.withColumn\n",
    "\n",
    "# calculate max lifetime of user\n",
    "lifetime = lifetime.groupBy('userId', 'churn', 'gender').agg({'lifetime':'max'}).withColumnRenamed\\\n",
    "           (\"max(lifetime)\",'lifetime')\n",
    "# http://spark.apache.org/docs/latest/api/python/pyspark.sql.html?highlight=agg#pyspark.sql.DataFrame.agg\n",
    "# http://spark.apache.org/docs/latest/api/python/pyspark.sql.html?highlight=withcolumn#pyspark.sql.DataFrame.withColumnRenamed\n",
    "# lifetime.show()\n",
    "\n",
    "# convert timestramp into days and save lifetime as Pandas dataframe\n",
    "lifetime = lifetime.select('userId', 'churn', 'gender', (col('lifetime')/1000/3600/24)\\\n",
    "           .alias('lifetime')).toPandas()\n",
    "\n",
    "\n",
    "ax = sns.violinplot(y = 'churn', x = 'lifetime', hue = 'gender', data = lifetime, split = False,  palette=\"Blues_d\", orient = 'h')\n",
    "# http://seaborn.pydata.org/generated/seaborn.violinplot.html#seaborn.violinplot\n",
    "plt.xlabel('the max lifetime before churn')\n",
    "plt.ylabel('Churned or Not')\n",
    "plt.title('Comparison of user lifetime on churn and gender')\n",
    "plt.legend(title = 'Gender', ncol = 2, loc = 'best')\n",
    "sns.despine(ax=ax)\n",
    "# Churned Customer Use the Service for a Shorter Period of Time."
   ]
  },
  {
   "cell_type": "markdown",
   "metadata": {},
   "source": [
    "# 特征工程\n",
    "熟悉了数据之后，就可以构建你认为会对训练模型帮助最大的特征。要处理完整数据集，你可以按照下述步骤：\n",
    "- 写一个脚本来从小数据集中提取你需要的特征\n",
    "- 确保你的脚本可以拓展到大数据集上，使用之前教过的最佳实践原则\n",
    "- 在完整数据集上运行你的脚本，按运行情况调试代码\n",
    "\n",
    "如果是在教室的 workspace，你可以直接用里面提供的小数据集来提取特征。确保当你开始使用 Spark 集群的时候，把上述的成果迁移到大数据集上。"
   ]
  },
  {
   "cell_type": "code",
   "execution_count": 19,
   "metadata": {},
   "outputs": [
    {
     "name": "stdout",
     "output_type": "stream",
     "text": [
      "+-------+-------------------+\n",
      "|summary|          life_time|\n",
      "+-------+-------------------+\n",
      "|  count|                225|\n",
      "|   mean|   79.8456834876543|\n",
      "| stddev|  37.66147001861254|\n",
      "|    min|0.31372685185185184|\n",
      "|    max|  256.3776736111111|\n",
      "+-------+-------------------+\n",
      "\n"
     ]
    }
   ],
   "source": [
    "# define user lifetime from registration timestamp to cancel timestamp\n",
    "feature_1 = df_clean.select('userId', 'registration', 'ts').withColumn('lifetime',\\\n",
    "            (df_clean.ts-df_clean.registration))\n",
    "# http://spark.apache.org/docs/latest/api/python/pyspark.sql.html?highlight=withcolumn#pyspark.sql.DataFrame.withColumn\n",
    "\n",
    "# aggregation with max lifetime as lifetime\n",
    "feature_1 = feature_1.groupby('userId').agg({'lifetime':\"max\"})\\\n",
    "            .withColumnRenamed('max(lifetime)', 'life_time')\n",
    "# http://spark.apache.org/docs/latest/api/python/pyspark.sql.html?highlight=agg#pyspark.sql.DataFrame.agg\n",
    "# http://spark.apache.org/docs/latest/api/python/pyspark.sql.html?highlight=withcolumn#pyspark.sql.DataFrame.withColumnRenamed\n",
    "\n",
    "# convert lifetime into days \n",
    "feature_1 = feature_1.select('userId', (col('life_time')\\\n",
    "    /1000/3600/24).alias('life_time'))\n",
    "\n",
    "# summary of feature_1\n",
    "feature_1.describe(['life_time']).show()\n",
    "# http://spark.apache.org/docs/latest/api/python/pyspark.sql.html?highlight=describe#pyspark.sql.DataFrame.describe"
   ]
  },
  {
   "cell_type": "code",
   "execution_count": 20,
   "metadata": {},
   "outputs": [
    {
     "name": "stdout",
     "output_type": "stream",
     "text": [
      "+-------+-----------------+\n",
      "|summary|        num_songs|\n",
      "+-------+-----------------+\n",
      "|  count|              225|\n",
      "|   mean|          1236.24|\n",
      "| stddev|1329.531716432519|\n",
      "|    min|                6|\n",
      "|    max|             9632|\n",
      "+-------+-----------------+\n",
      "\n"
     ]
    }
   ],
   "source": [
    "# Total Songs by Users\n",
    "# count songs by users \n",
    "feature_2 = df_clean.select('userId', 'song').groupby('userId').count()\\\n",
    "    .withColumnRenamed('count', 'num_songs')\n",
    "# http://spark.apache.org/docs/latest/api/python/pyspark.sql.html?highlight=groupby#pyspark.sql.DataFrame.groupby\n",
    "# http://spark.apache.org/docs/latest/api/python/pyspark.sql.html?highlight=count#pyspark.sql.DataFrame.count\n",
    "# http://spark.apache.org/docs/latest/api/python/pyspark.sql.html?highlight=withcolumn#pyspark.sql.DataFrame.withColumnRenamed\n",
    "\n",
    "# summary of total_songs\n",
    "feature_2.describe(['num_songs']).show()\n",
    "# http://spark.apache.org/docs/latest/api/python/pyspark.sql.html?highlight=describe#pyspark.sql.DataFrame.describe"
   ]
  },
  {
   "cell_type": "code",
   "execution_count": 21,
   "metadata": {
    "scrolled": true
   },
   "outputs": [
    {
     "name": "stdout",
     "output_type": "stream",
     "text": [
      "+-------+-----------------+\n",
      "|summary|     num_thumb_up|\n",
      "+-------+-----------------+\n",
      "|  count|              220|\n",
      "|   mean|            57.05|\n",
      "| stddev|65.67028650524044|\n",
      "|    min|                1|\n",
      "|    max|              437|\n",
      "+-------+-----------------+\n",
      "\n",
      "+-------+------------------+\n",
      "|summary|    num_thumb_down|\n",
      "+-------+------------------+\n",
      "|  count|               203|\n",
      "|   mean|12.541871921182265|\n",
      "| stddev|13.198108566983787|\n",
      "|    min|                 1|\n",
      "|    max|                75|\n",
      "+-------+------------------+\n",
      "\n"
     ]
    }
   ],
   "source": [
    "# Number of Thumbs Up\n",
    "# filter thumbs up in page column and count number by user\n",
    "feature_3 = df_clean.select(\"userId\", 'page').filter(df_clean.page == 'Thumbs Up')\\\n",
    "            .groupby(\"userId\").count().withColumnRenamed('count', 'num_thumb_up')\n",
    "# http://spark.apache.org/docs/latest/api/python/pyspark.sql.html?highlight=where#pyspark.sql.DataFrame.filter\n",
    "# http://spark.apache.org/docs/latest/api/python/pyspark.sql.html?highlight=groupby#pyspark.sql.DataFrame.groupby\n",
    "# http://spark.apache.org/docs/latest/api/python/pyspark.sql.html?highlight=count#pyspark.sql.DataFrame.count\n",
    "# http://spark.apache.org/docs/latest/api/python/pyspark.sql.html?highlight=withcolumn#pyspark.sql.DataFrame.withColumnRenamed\n",
    "\n",
    "# summary of number of thumbs up\n",
    "feature_3.describe(['num_thumb_up']).show()\n",
    "# http://spark.apache.org/docs/latest/api/python/pyspark.sql.html?highlight=describe#pyspark.sql.DataFrame.describe\n",
    "\n",
    "# Number of Thumbs Down\n",
    "# filter thumbs down in page column and count number by user\n",
    "feature_4 = df_clean.select('userId', 'page').where(df_clean.page == \"Thumbs Down\")\\\n",
    "      .groupby('userId').count().withColumnRenamed('count','num_thumb_down')\n",
    "# http://spark.apache.org/docs/latest/api/python/pyspark.sql.html?highlight=describe#pyspark.sql.DataFrame.where\n",
    "# http://spark.apache.org/docs/latest/api/python/pyspark.sql.html?highlight=groupby#pyspark.sql.DataFrame.groupby\n",
    "# http://spark.apache.org/docs/latest/api/python/pyspark.sql.html?highlight=count#pyspark.sql.DataFrame.count\n",
    "# http://spark.apache.org/docs/latest/api/python/pyspark.sql.html?highlight=withcolumn#pyspark.sql.DataFrame.withColumnRenamed\n",
    "\n",
    "# summary of number of thumbs down\n",
    "feature_4.describe(['num_thumb_down']).show()\n",
    "# http://spark.apache.org/docs/latest/api/python/pyspark.sql.html?highlight=describe#pyspark.sql.DataFrame.describe"
   ]
  },
  {
   "cell_type": "code",
   "execution_count": 22,
   "metadata": {},
   "outputs": [
    {
     "name": "stdout",
     "output_type": "stream",
     "text": [
      "+-------+-----------------+\n",
      "|summary|  add_to_playlist|\n",
      "+-------+-----------------+\n",
      "|  count|              215|\n",
      "|   mean|30.35348837209302|\n",
      "| stddev| 32.8520568555997|\n",
      "|    min|                1|\n",
      "|    max|              240|\n",
      "+-------+-----------------+\n",
      "\n"
     ]
    }
   ],
   "source": [
    "# number of songs added to playlist\n",
    "# count number of Add to Playlist in page by user\n",
    "feature_5 = df_clean.select('userId', 'page').where(df_clean.page == 'Add to Playlist')\\\n",
    "            .groupby('userId').count().withColumnRenamed('count', 'add_to_playlist')\n",
    "# http://spark.apache.org/docs/latest/api/python/pyspark.sql.html?highlight=describe#pyspark.sql.DataFrame.where\n",
    "# http://spark.apache.org/docs/latest/api/python/pyspark.sql.html?highlight=groupby#pyspark.sql.DataFrame.groupby\n",
    "# http://spark.apache.org/docs/latest/api/python/pyspark.sql.html?highlight=count#pyspark.sql.DataFrame.count\n",
    "# http://spark.apache.org/docs/latest/api/python/pyspark.sql.html?highlight=withcolumn#pyspark.sql.DataFrame.withColumnRenamed\n",
    "\n",
    "# summary of Add to Playlist\n",
    "feature_5.describe(['add_to_playlist']).show()\n",
    "# http://spark.apache.org/docs/latest/api/python/pyspark.sql.html?highlight=describe#pyspark.sql.DataFrame.describe"
   ]
  },
  {
   "cell_type": "code",
   "execution_count": 23,
   "metadata": {},
   "outputs": [
    {
     "name": "stdout",
     "output_type": "stream",
     "text": [
      "+-------+------------------+\n",
      "|summary|        add_friend|\n",
      "+-------+------------------+\n",
      "|  count|               206|\n",
      "|   mean|20.762135922330096|\n",
      "| stddev|20.646779074405007|\n",
      "|    min|                 1|\n",
      "|    max|               143|\n",
      "+-------+------------------+\n",
      "\n"
     ]
    }
   ],
   "source": [
    "# number of friends added\n",
    "# count number add friend by users\n",
    "feature_6 = df_clean.select('userId', 'page').where(df_clean.page == 'Add Friend') \\\n",
    "            .groupby(\"userId\").count().withColumnRenamed('count', 'add_friend')\n",
    "# http://spark.apache.org/docs/latest/api/python/pyspark.sql.html?highlight=describe#pyspark.sql.DataFrame.where\n",
    "# http://spark.apache.org/docs/latest/api/python/pyspark.sql.html?highlight=groupby#pyspark.sql.DataFrame.groupby\n",
    "# http://spark.apache.org/docs/latest/api/python/pyspark.sql.html?highlight=count#pyspark.sql.DataFrame.count\n",
    "# http://spark.apache.org/docs/latest/api/python/pyspark.sql.html?highlight=withcolumn#pyspark.sql.DataFrame.withColumnRenamed\n",
    "\n",
    "# summary of add friend\n",
    "feature_6.describe(['add_friend']).show()\n",
    "# http://spark.apache.org/docs/latest/api/python/pyspark.sql.html?highlight=describe#pyspark.sql.DataFrame.describe"
   ]
  },
  {
   "cell_type": "code",
   "execution_count": 24,
   "metadata": {},
   "outputs": [
    {
     "name": "stdout",
     "output_type": "stream",
     "text": [
      "+-------+------------------+\n",
      "|summary|      total_listen|\n",
      "+-------+------------------+\n",
      "|  count|               225|\n",
      "|   mean|252558.32065155543|\n",
      "| stddev| 275396.4038847635|\n",
      "|    min|         691.66884|\n",
      "|    max|1991154.9155799907|\n",
      "+-------+------------------+\n",
      "\n"
     ]
    }
   ],
   "source": [
    "# length of listening by user\n",
    "feature_7 = df_clean.select('userId', \"length\")\\\n",
    "            .groupby('userId').sum()\\\n",
    "            .withColumnRenamed('sum(length)', 'total_listen')\n",
    "# http://spark.apache.org/docs/latest/api/python/pyspark.sql.html?highlight=groupby#pyspark.sql.DataFrame.groupby\n",
    "# http://spark.apache.org/docs/latest/api/python/pyspark.sql.html?highlight=describe#pyspark.sql.functions.sum\n",
    "# http://spark.apache.org/docs/latest/api/python/pyspark.sql.html?highlight=withcolumn#pyspark.sql.DataFrame.withColumnRenamed\n",
    "\n",
    "# summary of listen time\n",
    "feature_7.describe(['total_listen']).show()\n",
    "# http://spark.apache.org/docs/latest/api/python/pyspark.sql.html?highlight=describe#pyspark.sql.DataFrame.describe"
   ]
  },
  {
   "cell_type": "code",
   "execution_count": 25,
   "metadata": {},
   "outputs": [
    {
     "name": "stdout",
     "output_type": "stream",
     "text": [
      "+-------+-----------------+\n",
      "|summary| avg_songs_played|\n",
      "+-------+-----------------+\n",
      "|  count|              225|\n",
      "|   mean|70.78971233958933|\n",
      "| stddev| 42.6153697543817|\n",
      "|    min|              3.0|\n",
      "|    max|286.6666666666667|\n",
      "+-------+-----------------+\n",
      "\n"
     ]
    }
   ],
   "source": [
    "# number of songs listened per session by users\n",
    "# count songs listened by userId and sessionId\n",
    "feature_8 = df_clean.where('page == \"NextSong\"').groupBy('userId', 'sessionId').count()\n",
    "# http://spark.apache.org/docs/latest/api/python/pyspark.sql.html?highlight=describe#pyspark.sql.DataFrame.where\n",
    "# http://spark.apache.org/docs/latest/api/python/pyspark.sql.html?highlight=groupby#pyspark.sql.DataFrame.groupby\n",
    "# http://spark.apache.org/docs/latest/api/python/pyspark.sql.html?highlight=count#pyspark.sql.DataFrame.count\n",
    "#feature_8.show()\n",
    "\n",
    "# calculated average numbers of listened per session by users\n",
    "feature_8 = feature_8.groupby(['userId']).agg({'count':'avg'})\\\n",
    "            .withColumnRenamed('avg(count)', 'avg_songs_played')\n",
    "# http://spark.apache.org/docs/latest/api/python/pyspark.sql.html?highlight=agg#pyspark.sql.GroupedData.agg\n",
    "# http://spark.apache.org/docs/latest/api/python/pyspark.sql.html?highlight=withcolumn#pyspark.sql.DataFrame.withColumnRenamed\n",
    "\n",
    "# summary of average songs played per session by users\n",
    "feature_8.describe(['avg_songs_played']).show()\n",
    "# http://spark.apache.org/docs/latest/api/python/pyspark.sql.html?highlight=describe#pyspark.sql.DataFrame.describe"
   ]
  },
  {
   "cell_type": "code",
   "execution_count": 26,
   "metadata": {},
   "outputs": [
    {
     "name": "stdout",
     "output_type": "stream",
     "text": [
      "+-------+-------------------+\n",
      "|summary|             gender|\n",
      "+-------+-------------------+\n",
      "|  count|                225|\n",
      "|   mean| 0.4622222222222222|\n",
      "| stddev|0.49968243883744773|\n",
      "|    min|                  0|\n",
      "|    max|                  1|\n",
      "+-------+-------------------+\n",
      "\n"
     ]
    }
   ],
   "source": [
    "# Gender\n",
    "# drop duplicated records by userId and gender\n",
    "# replace gender into int \n",
    "feature_9 = df_clean.select('userId', 'gender').dropDuplicates()\\\n",
    "            .replace(['M', 'F'], ['0', '1'], 'gender')\n",
    "# http://spark.apache.org/docs/latest/api/python/pyspark.sql.html?highlight=dropduplicates#pyspark.sql.DataFrame.dropDuplicates\n",
    "# http://spark.apache.org/docs/latest/api/python/pyspark.sql.html?highlight=replace#pyspark.sql.DataFrame.replace\n",
    "\n",
    "# cast gender into int\n",
    "feature_9 = feature_9.select('userId', col('gender').cast('int'))\n",
    "# http://spark.apache.org/docs/latest/api/python/pyspark.sql.html?highlight=cast#pyspark.sql.Column.cast\n",
    "\n",
    "# summary of gender\n",
    "feature_9.describe(['gender']).show()\n",
    "# http://spark.apache.org/docs/latest/api/python/pyspark.sql.html?highlight=describe#pyspark.sql.DataFrame.describe"
   ]
  },
  {
   "cell_type": "code",
   "execution_count": 27,
   "metadata": {},
   "outputs": [
    {
     "name": "stdout",
     "output_type": "stream",
     "text": [
      "+-------+-----------------+\n",
      "|summary|       num_artist|\n",
      "+-------+-----------------+\n",
      "|  count|              225|\n",
      "|   mean|696.3777777777777|\n",
      "| stddev|603.9518698630802|\n",
      "|    min|                3|\n",
      "|    max|             3544|\n",
      "+-------+-----------------+\n",
      "\n"
     ]
    }
   ],
   "source": [
    "# nubmer of artists listened\n",
    "# filter song listened by userId and artist\n",
    "# drop duplicates records\n",
    "feature_10 = df_clean.filter(df_clean.page == 'NextSong')\\\n",
    "            .select('userId', 'artist').dropDuplicates()\n",
    "# http://spark.apache.org/docs/latest/api/python/pyspark.sql.html?highlight=where#pyspark.sql.DataFrame.filter\n",
    "# http://spark.apache.org/docs/latest/api/python/pyspark.sql.html?highlight=dropduplicates#pyspark.sql.DataFrame.dropDuplicates\n",
    "#feature_10.show()\n",
    "\n",
    "# count artist by users\n",
    "feature_10 = feature_10.groupby('userId').count()\\\n",
    "            .withColumnRenamed('count', 'num_artist')\n",
    "# http://spark.apache.org/docs/latest/api/python/pyspark.sql.html?highlight=groupby#pyspark.sql.DataFrame.groupby\n",
    "# http://spark.apache.org/docs/latest/api/python/pyspark.sql.html?highlight=count#pyspark.sql.DataFrame.count\n",
    "# http://spark.apache.org/docs/latest/api/python/pyspark.sql.html?highlight=withcolumn#pyspark.sql.DataFrame.withColumnRenamed\n",
    "\n",
    "# summary of num_artist\n",
    "feature_10.describe(['num_artist']).show()\n",
    "# http://spark.apache.org/docs/latest/api/python/pyspark.sql.html?highlight=describe#pyspark.sql.DataFrame.describe"
   ]
  },
  {
   "cell_type": "code",
   "execution_count": 28,
   "metadata": {
    "scrolled": true
   },
   "outputs": [
    {
     "name": "stdout",
     "output_type": "stream",
     "text": [
      "+-------+------------------+------------------+\n",
      "|summary|            userId|             label|\n",
      "+-------+------------------+------------------+\n",
      "|  count|               225|               225|\n",
      "|   mean|65391.013333333336|0.2311111111111111|\n",
      "| stddev|105396.47791907164|0.4224832108996327|\n",
      "|    min|                10|                 0|\n",
      "|    max|                99|                 1|\n",
      "+-------+------------------+------------------+\n",
      "\n"
     ]
    }
   ],
   "source": [
    "# churn label\n",
    "# alias churn as label \n",
    "# drop duplicated records\n",
    "label = df_clean.select('userId', col('churn').alias('label'))\\\n",
    "        .dropDuplicates()\n",
    "# http://spark.apache.org/docs/latest/api/python/pyspark.sql.html?highlight=alias#pyspark.sql.Column.alias\n",
    "\n",
    "# summary of label\n",
    "label.describe().show()\n",
    "# http://spark.apache.org/docs/latest/api/python/pyspark.sql.html?highlight=describe#pyspark.sql.DataFrame.describe"
   ]
  },
  {
   "cell_type": "code",
   "execution_count": 29,
   "metadata": {},
   "outputs": [
    {
     "name": "stdout",
     "output_type": "stream",
     "text": [
      "+-------+-------------------+-----------------+------------------+------------------+------------------+------------------+------------------+-----------------+------------------+-----------------+------------------+\n",
      "|summary|          life_time|        num_songs|      num_thumb_up|    num_thumb_down|   add_to_playlist|        add_friend|      total_listen| avg_songs_played|            gender|       num_artist|             label|\n",
      "+-------+-------------------+-----------------+------------------+------------------+------------------+------------------+------------------+-----------------+------------------+-----------------+------------------+\n",
      "|  count|                225|              225|               225|               225|               225|               225|               225|              225|               225|              225|               225|\n",
      "|   mean|  79.84568348765428|          1236.24|55.782222222222224|11.315555555555555|29.004444444444445| 19.00888888888889|252558.32065155543|70.78971233958933|0.4622222222222222|696.3777777777777|0.2311111111111111|\n",
      "| stddev|  37.66147001861255|1329.531716432519| 65.47792460907043|13.077481251105503|32.716653931055426|20.581716728496275| 275396.4038847635| 42.6153697543817|0.4996824388374478|603.9518698630802|0.4224832108996327|\n",
      "|    min|0.31372685185185184|                6|                 0|                 0|                 0|                 0|         691.66884|              3.0|                 0|                3|                 0|\n",
      "|    max|  256.3776736111111|             9632|               437|                75|               240|               143|1991154.9155799907|286.6666666666667|                 1|             3544|                 1|\n",
      "+-------+-------------------+-----------------+------------------+------------------+------------------+------------------+------------------+-----------------+------------------+-----------------+------------------+\n",
      "\n"
     ]
    }
   ],
   "source": [
    "# merge all features into one dataset\n",
    "# join all features in outer \n",
    "# drop userId\n",
    "#  fill null in empty cells\n",
    "data = feature_1.join(feature_2, 'userId', 'outer')\\\n",
    "    .join(feature_3, 'userId', 'outer' )\\\n",
    "    .join(feature_4, 'userId', 'outer' )\\\n",
    "    .join(feature_5, 'userId', 'outer' )\\\n",
    "    .join(feature_6, 'userId', 'outer' )\\\n",
    "    .join(feature_7, 'userId', 'outer' )\\\n",
    "    .join(feature_8, 'userId', 'outer' )\\\n",
    "    .join(feature_9, 'userId', 'outer' )\\\n",
    "    .join(feature_10, 'userId', 'outer' )\\\n",
    "    .join(label, 'userId', 'outer' )\\\n",
    "    .drop('userId')\\\n",
    "    .fillna(0)\n",
    "# http://spark.apache.org/docs/latest/api/python/pyspark.sql.html?highlight=join#pyspark.sql.DataFrame.join\n",
    "# http://spark.apache.org/docs/latest/api/python/pyspark.sql.html?highlight=drop#pyspark.sql.DataFrame.drop\n",
    "# http://spark.apache.org/docs/latest/api/python/pyspark.sql.html?highlight=fillna#pyspark.sql.DataFrame.fillna\n",
    "\n",
    "# summary of data\n",
    "data.describe().show()\n",
    "# http://spark.apache.org/docs/latest/api/python/pyspark.sql.html?highlight=describe#pyspark.sql.DataFrame.describe"
   ]
  },
  {
   "cell_type": "markdown",
   "metadata": {},
   "source": [
    "# 建模\n",
    "将完整数据集分成训练集、测试集和验证集。测试几种你学过的机器学习方法。评价不同机器学习方法的准确率，根据情况调节参数。根据准确率你挑选出表现最好的那个模型，然后报告在训练集上的结果。因为流失顾客数据集很小，我建议选用 F1 score 作为优化指标。"
   ]
  },
  {
   "cell_type": "code",
   "execution_count": 30,
   "metadata": {},
   "outputs": [
    {
     "name": "stdout",
     "output_type": "stream",
     "text": [
      "root\n",
      " |-- life_time: double (nullable = false)\n",
      " |-- num_songs: long (nullable = true)\n",
      " |-- num_thumb_up: long (nullable = true)\n",
      " |-- num_thumb_down: long (nullable = true)\n",
      " |-- add_to_playlist: long (nullable = true)\n",
      " |-- add_friend: long (nullable = true)\n",
      " |-- total_listen: double (nullable = false)\n",
      " |-- avg_songs_played: double (nullable = false)\n",
      " |-- gender: integer (nullable = true)\n",
      " |-- num_artist: long (nullable = true)\n",
      " |-- label: integer (nullable = true)\n",
      "\n"
     ]
    }
   ],
   "source": [
    "# explore structure of data \n",
    "data.printSchema()"
   ]
  },
  {
   "cell_type": "code",
   "execution_count": 31,
   "metadata": {},
   "outputs": [
    {
     "name": "stdout",
     "output_type": "stream",
     "text": [
      "+------------------+---------+------------+--------------+---------------+----------+------------------+------------------+------+----------+-----+--------------------+\n",
      "|         life_time|num_songs|num_thumb_up|num_thumb_down|add_to_playlist|add_friend|      total_listen|  avg_songs_played|gender|num_artist|label|         NumFeatures|\n",
      "+------------------+---------+------------+--------------+---------------+----------+------------------+------------------+------+----------+-----+--------------------+\n",
      "|  55.6436574074074|      381|          17|             5|              7|         4| 66940.89735000003|39.285714285714285|     1|       252|    0|[55.6436574074074...|\n",
      "| 70.07462962962963|      474|          21|             6|              8|         4| 94008.87593999993|              64.5|     0|       339|    0|[70.0746296296296...|\n",
      "| 71.31688657407408|       11|           0|             0|              0|         0|2089.1131000000005|               8.0|     0|         8|    1|(10,[0,1,6,7,9],[...|\n",
      "|131.55591435185184|     4825|         171|            41|            118|        74|1012312.0927899999|145.67857142857142|     1|      2232|    0|[131.555914351851...|\n",
      "|19.455844907407407|     2464|         100|            21|             52|        28| 523275.8428000004|             211.1|     0|      1385|    1|[19.4558449074074...|\n",
      "| 72.77818287037037|      201|           7|             1|              5|         1| 38034.08710000002|21.428571428571427|     0|       142|    0|[72.7781828703703...|\n",
      "|56.513576388888886|     2278|          81|            14|             59|        31|477307.60581000015|136.71428571428572|     0|      1302|    0|[56.5135763888888...|\n",
      "|110.75168981481481|     3437|         163|            29|             72|        33| 711344.9195400011| 81.17142857142858|     1|      1744|    1|[110.751689814814...|\n",
      "|23.556018518518517|     1002|          58|             3|             24|        11|       198779.2919|136.66666666666666|     1|       643|    0|[23.5560185185185...|\n",
      "| 85.08340277777778|      310|          17|             3|              7|         6| 67703.47208000004|42.833333333333336|     0|       233|    1|[85.0834027777777...|\n",
      "|  66.8891087962963|     2304|          96|            17|             38|        41| 483118.9038399997|             120.5|     1|      1299|    0|[66.8891087962963...|\n",
      "|23.872037037037035|      118|          11|             0|              1|         3|20660.023910000007|              28.0|     1|        78|    0|[23.8720370370370...|\n",
      "|53.965937499999995|     2149|          86|            16|             61|        29| 447464.0146699989|             179.7|     0|      1241|    1|[53.9659374999999...|\n",
      "|124.47825231481481|      848|          40|             9|             20|         6|159669.96303999983|           40.4375|     1|       534|    0|[124.478252314814...|\n",
      "| 66.62668981481481|     2469|          95|            24|             67|        41| 512449.8827599989|             138.0|     0|      1332|    0|[66.6266898148148...|\n",
      "| 74.35851851851852|     4428|         303|            28|            113|        63| 897406.9802100015|59.540983606557376|     1|      2070|    0|[74.3585185185185...|\n",
      "| 64.73886574074074|      319|          11|             5|              7|         7| 57633.17563999999|              46.0|     0|       207|    1|[64.7388657407407...|\n",
      "|60.104050925925925|     3603|         154|            22|             89|        47| 754517.5625700009| 89.05882352941177|     0|      1804|    1|[60.1040509259259...|\n",
      "| 71.42444444444445|     1342|          72|             9|             33|        12| 286064.0256399999|             125.0|     1|       865|    0|[71.4244444444444...|\n",
      "| 87.46262731481481|      292|           9|             3|              7|         7| 53062.74659000002| 23.88888888888889|     0|       195|    0|[87.4626273148148...|\n",
      "+------------------+---------+------------+--------------+---------------+----------+------------------+------------------+------+----------+-----+--------------------+\n",
      "only showing top 20 rows\n",
      "\n"
     ]
    }
   ],
   "source": [
    "# Vectorize and Standardize data to fit and transform models\n",
    "# vector assembler\n",
    "cols = ['life_time', 'num_songs', 'num_thumb_up', \\\n",
    "       'num_thumb_down', 'add_to_playlist','add_friend', 'total_listen',\\\n",
    "       'avg_songs_played', 'gender', 'num_artist']\n",
    "\n",
    "# merges multiple columns into a vector column.\n",
    "vecAssembler = VectorAssembler(inputCols = cols, outputCol = 'NumFeatures')\n",
    "# http://spark.apache.org/docs/latest/api/python/pyspark.ml.html?highlight=vectorassembler#pyspark.ml.feature.VectorAssembler\n",
    "data = vecAssembler.transform(data)\n",
    "# http://spark.apache.org/docs/latest/api/python/pyspark.ml.html?highlight=transform#pyspark.ml.feature.VectorAssembler.transform\n",
    "\n",
    "# show data\n",
    "data.show()"
   ]
  },
  {
   "cell_type": "code",
   "execution_count": 32,
   "metadata": {},
   "outputs": [
    {
     "name": "stdout",
     "output_type": "stream",
     "text": [
      "+------------------+---------+------------+--------------+---------------+----------+------------------+------------------+------+----------+-----+--------------------+--------------------+\n",
      "|         life_time|num_songs|num_thumb_up|num_thumb_down|add_to_playlist|add_friend|      total_listen|  avg_songs_played|gender|num_artist|label|         NumFeatures|            features|\n",
      "+------------------+---------+------------+--------------+---------------+----------+------------------+------------------+------+----------+-----+--------------------+--------------------+\n",
      "|  55.6436574074074|      381|          17|             5|              7|         4| 66940.89735000003|39.285714285714285|     1|       252|    0|[55.6436574074074...|[1.47746907860760...|\n",
      "| 70.07462962962963|      474|          21|             6|              8|         4| 94008.87593999993|              64.5|     0|       339|    0|[70.0746296296296...|[1.86064509948757...|\n",
      "| 71.31688657407408|       11|           0|             0|              0|         0|2089.1131000000005|               8.0|     0|         8|    1|(10,[0,1,6,7,9],[...|(10,[0,1,6,7,9],[...|\n",
      "|131.55591435185184|     4825|         171|            41|            118|        74|1012312.0927899999|145.67857142857142|     1|      2232|    0|[131.555914351851...|[3.49311681904174...|\n",
      "|19.455844907407407|     2464|         100|            21|             52|        28| 523275.8428000004|             211.1|     0|      1385|    1|[19.4558449074074...|[0.51659812794859...|\n",
      "| 72.77818287037037|      201|           7|             1|              5|         1| 38034.08710000002|21.428571428571427|     0|       142|    0|[72.7781828703703...|[1.93243075308539...|\n",
      "|56.513576388888886|     2278|          81|            14|             59|        31|477307.60581000015|136.71428571428572|     0|      1302|    0|[56.5135763888888...|[1.50056745955374...|\n",
      "|110.75168981481481|     3437|         163|            29|             72|        33| 711344.9195400011| 81.17142857142858|     1|      1744|    1|[110.751689814814...|[2.94071606233321...|\n",
      "|23.556018518518517|     1002|          58|             3|             24|        11|       198779.2919|136.66666666666666|     1|       643|    0|[23.5560185185185...|[0.62546731465545...|\n",
      "| 85.08340277777778|      310|          17|             3|              7|         6| 67703.47208000004|42.833333333333336|     0|       233|    1|[85.0834027777777...|[2.25916308459890...|\n",
      "|  66.8891087962963|     2304|          96|            17|             38|        41| 483118.9038399997|             120.5|     1|      1299|    0|[66.8891087962963...|[1.77606208050931...|\n",
      "|23.872037037037035|      118|          11|             0|              1|         3|20660.023910000007|              28.0|     1|        78|    0|[23.8720370370370...|[0.63385834448945...|\n",
      "|53.965937499999995|     2149|          86|            16|             61|        29| 447464.0146699989|             179.7|     0|      1241|    1|[53.9659374999999...|[1.43292169618789...|\n",
      "|124.47825231481481|      848|          40|             9|             20|         6|159669.96303999983|           40.4375|     1|       534|    0|[124.478252314814...|[3.30518835970281...|\n",
      "| 66.62668981481481|     2469|          95|            24|             67|        41| 512449.8827599989|             138.0|     0|      1332|    0|[66.6266898148148...|[1.76909424358336...|\n",
      "| 74.35851851851852|     4428|         303|            28|            113|        63| 897406.9802100015|59.540983606557376|     1|      2070|    0|[74.3585185185185...|[1.97439235594813...|\n",
      "| 64.73886574074074|      319|          11|             5|              7|         7| 57633.17563999999|              46.0|     0|       207|    1|[64.7388657407407...|[1.71896810476984...|\n",
      "|60.104050925925925|     3603|         154|            22|             89|        47| 754517.5625700009| 89.05882352941177|     0|      1804|    1|[60.1040509259259...|[1.59590294527064...|\n",
      "| 71.42444444444445|     1342|          72|             9|             33|        12| 286064.0256399999|             125.0|     1|       865|    0|[71.4244444444444...|[1.89648583576652...|\n",
      "| 87.46262731481481|      292|           9|             3|              7|         7| 53062.74659000002| 23.88888888888889|     0|       195|    0|[87.4626273148148...|[2.32233705353482...|\n",
      "+------------------+---------+------------+--------------+---------------+----------+------------------+------------------+------+----------+-----+--------------------+--------------------+\n",
      "only showing top 20 rows\n",
      "\n"
     ]
    }
   ],
   "source": [
    "# standard scaler\n",
    "# Standardizes features by removing the mean and scaling to unit variance using column summary statistics on the samples in the training set\n",
    "standardScaler = StandardScaler(inputCol = 'NumFeatures', outputCol = 'features', withStd = True)\n",
    "model = standardScaler.fit(data)\n",
    "data = model.transform(data)\n",
    "# http://spark.apache.org/docs/latest/api/python/pyspark.ml.html?highlight=standardscaler#pyspark.ml.feature.StandardScaler\n",
    "data.show()\n",
    "# vecotrized and standardized data"
   ]
  },
  {
   "cell_type": "code",
   "execution_count": 33,
   "metadata": {},
   "outputs": [],
   "source": [
    "# data split\n",
    "# divid data into 6:2:2 \n",
    "train, validation, test = data.randomSplit([0.6, 0.2, 0.2], seed = 42)\n",
    "# http://spark.apache.org/docs/latest/api/python/pyspark.sql.html?highlight=randomsplit#pyspark.sql.DataFrame.randomSplit\n",
    "# divid train, validation, test 6:2:2."
   ]
  },
  {
   "cell_type": "code",
   "execution_count": 34,
   "metadata": {},
   "outputs": [
    {
     "name": "stdout",
     "output_type": "stream",
     "text": [
      "Test Set 1 Metrics: \n",
      "Accuracy: 0.29411764705882354\n",
      "F1: 0.1336898395721925\n",
      "Test Set 0 Metrics: \n",
      "Accuracy: 0.7058823529411765\n",
      "F1: 0.5841784989858012\n"
     ]
    }
   ],
   "source": [
    "# model design\n",
    "# set baseline model to grip the baseline of metric values for futher models\n",
    "'''\n",
    "    Evaluate two baseline models, one with all users labelled as churn = 1, and the others labelled as churn = 0. \n",
    "    And calculate accuracy and f1 score.\n",
    "    To konw the baseline values of metrics of futher models.\n",
    "'''\n",
    "\n",
    "# baseline model for churn = 1\n",
    "result_baseline_1 = test.withColumn('prediction', lit(1.0))\n",
    "# http://spark.apache.org/docs/latest/api/python/pyspark.sql.html?highlight=withcolumn#pyspark.sql.DataFrame.withColumn\n",
    "# http://spark.apache.org/docs/latest/api/python/pyspark.sql.html?highlight=lit#pyspark.sql.functions.lit\n",
    "\n",
    "evaluator = MulticlassClassificationEvaluator(predictionCol = 'prediction')\n",
    "# http://spark.apache.org/docs/latest/api/python/pyspark.ml.html?highlight=multiclassclassificationevaluator#pyspark.ml.evaluation.MulticlassClassificationEvaluator\n",
    "\n",
    "print(\"Test Set 1 Metrics: \")\n",
    "print('Accuracy: {}'.format(evaluator.evaluate(result_baseline_1, {evaluator.metricName: 'accuracy'})))\n",
    "print('F1: {}'.format(evaluator.evaluate(result_baseline_1, {evaluator.metricName: 'f1'})))\n",
    "\n",
    "\n",
    "# baseline model for churn = 0 \n",
    "result_baseline_0 = test.withColumn('prediction', lit(0.0))\n",
    "# http://spark.apache.org/docs/latest/api/python/pyspark.sql.html?highlight=withcolumn#pyspark.sql.DataFrame.withColumn\n",
    "# http://spark.apache.org/docs/latest/api/python/pyspark.sql.html?highlight=lit#pyspark.sql.functions.lit\n",
    "evaluator = MulticlassClassificationEvaluator(predictionCol = 'prediction')\n",
    "# http://spark.apache.org/docs/latest/api/python/pyspark.ml.html?highlight=multiclassclassificationevaluator#pyspark.ml.evaluation.MulticlassClassificationEvaluator\n",
    "\n",
    "print(\"Test Set 0 Metrics: \")\n",
    "print('Accuracy: {}'.format(evaluator.evaluate(result_baseline_0, {evaluator.metricName: 'accuracy'})))\n",
    "print('F1: {}'.format(evaluator.evaluate(result_baseline_0, {evaluator.metricName: 'f1'})))"
   ]
  },
  {
   "cell_type": "code",
   "execution_count": 37,
   "metadata": {},
   "outputs": [
    {
     "name": "stdout",
     "output_type": "stream",
     "text": [
      "The training process took 524.7114186286926 seconds\n"
     ]
    }
   ],
   "source": [
    "# Choose the best model from Logisitic Regression, Gradient-Boosted Trees, Support Vector Machine, and Random Forest by check accurary and f1 score stemmed from the training and validating the dataset \n",
    "# Logistic Regression\n",
    "# Initialize Classifier with 10 iterations\n",
    "lr = LogisticRegression(maxIter = 10)\n",
    "# http://spark.apache.org/docs/latest/api/python/pyspark.ml.html?highlight=logisticregression#pyspark.ml.classification.LogisticRegression\n",
    "\n",
    "# Set f1 score as evaluator\n",
    "evaluator = MulticlassClassificationEvaluator(metricName = 'f1')\n",
    "# http://spark.apache.org/docs/latest/api/python/pyspark.ml.html?highlight=multiclassclassificationevaluator#pyspark.ml.evaluation.MulticlassClassificationEvaluator\n",
    "\n",
    "# builder for a param grid used in grid search-based model selection.\n",
    "grid  = ParamGridBuilder().build()\n",
    "# http://spark.apache.org/docs/latest/api/python/pyspark.ml.html?highlight=paramgrid#pyspark.ml.tuning.ParamGridBuilder\n",
    "\n",
    "# 3-fold cross validation performs LogisticRegression \n",
    "cv_lr = CrossValidator(estimator = lr, estimatorParamMaps = grid,\\\n",
    "                       evaluator = evaluator, numFolds = 3)\n",
    "# http://spark.apache.org/docs/latest/api/python/pyspark.ml.html?highlight=crossvalidator#pyspark.ml.tuning.CrossValidator\n",
    "\n",
    "# start time\n",
    "start = time()\n",
    "# fit trainset\n",
    "model_lr = cv_lr.fit(train)\n",
    "# http://spark.apache.org/docs/latest/api/python/pyspark.ml.html?highlight=fit#pyspark.ml.classification.LogisticRegression.fit\n",
    "# end time\n",
    "end = time()\n",
    "\n",
    "model_lr.avgMetrics\n",
    "# http://spark.apache.org/docs/latest/api/python/pyspark.ml.html?highlight=avgmetric#pyspark.ml.tuning.CrossValidatorModel.avgMetrics\n",
    "\n",
    "# print the time span of the process\n",
    "print('The training process took {} seconds'.format(end - start))"
   ]
  },
  {
   "cell_type": "code",
   "execution_count": 38,
   "metadata": {
    "scrolled": true
   },
   "outputs": [
    {
     "name": "stdout",
     "output_type": "stream",
     "text": [
      "Logistic Regression Metrics: \n",
      "Accuracy: 0.7959183673469388\n",
      "F1: 0.7871315192743764\n"
     ]
    }
   ],
   "source": [
    "# transform validationset\n",
    "result_lr = model_lr.transform(validation)\n",
    "# http://spark.apache.org/docs/latest/api/python/pyspark.ml.html?highlight=transform#pyspark.ml.classification.LogisticRegressionModel.transform\n",
    "\n",
    "# set evaluator for prediction\n",
    "evaluator = MulticlassClassificationEvaluator(predictionCol ='prediction')\n",
    "# http://spark.apache.org/docs/latest/api/python/pyspark.ml.html?highlight=multiclassclassificationevaluator#pyspark.ml.evaluation.MulticlassClassificationEvaluator\n",
    "\n",
    "# Print Accuacy and F1 score of Logistic Regression\n",
    "print('Logistic Regression Metrics: ')\n",
    "print('Accuracy: {}'.format(evaluator.evaluate(result_lr, {evaluator.metricName: 'accuracy'})))\n",
    "print('F1: {}'.format(evaluator.evaluate(result_lr, {evaluator.metricName: 'f1'})))\n",
    "# http://spark.apache.org/docs/latest/api/python/pyspark.ml.html?highlight=evaluate#pyspark.ml.evaluation.MulticlassClassificationEvaluator.evaluate"
   ]
  },
  {
   "cell_type": "code",
   "execution_count": 39,
   "metadata": {},
   "outputs": [],
   "source": [
    "# Gradient-Boosted Trees\n",
    "# Initialize Classifier with 10 iterations and 42 samples\n",
    "gbt = GBTClassifier(maxIter = 10, seed = 42)\n",
    "# http://spark.apache.org/docs/latest/api/python/pyspark.ml.html?highlight=gbtclassifier#pyspark.ml.classification.GBTClassifier\n",
    "\n",
    "# Set Evaluator\n",
    "evaluator = MulticlassClassificationEvaluator(metricName = 'f1')\n",
    "# http://spark.apache.org/docs/latest/api/python/pyspark.ml.html?highlight=multiclassclassificationevaluator#pyspark.ml.evaluation.MulticlassClassificationEvaluator\n",
    "\n",
    "# build paramGrid\n",
    "grid = ParamGridBuilder().build()\n",
    "# http://spark.apache.org/docs/latest/api/python/pyspark.ml.html?highlight=paramgrid#pyspark.ml.tuning.ParamGridBuilder\n",
    "\n",
    "# 3-fold cross valiation with paramgrid\n",
    "cv_gbt = CrossValidator(estimator = gbt,\\\n",
    "                            evaluator = evaluator,\\\n",
    "                            estimatorParamMaps = grid,\\\n",
    "                            numFolds = 3)\n",
    "# http://spark.apache.org/docs/latest/api/python/pyspark.ml.html?highlight=crossvalidator#pyspark.ml.tuning.CrossValidator"
   ]
  },
  {
   "cell_type": "code",
   "execution_count": 40,
   "metadata": {},
   "outputs": [
    {
     "name": "stdout",
     "output_type": "stream",
     "text": [
      "The training process took 1088.8902523517609 seconds\n"
     ]
    }
   ],
   "source": [
    "# Set start time\n",
    "start = time()\n",
    "# fit trainset\n",
    "model_gbt = cv_gbt.fit(train)\n",
    "# http://spark.apache.org/docs/latest/api/python/pyspark.ml.html?highlight=fit#pyspark.ml.classification.LogisticRegression.fit\n",
    "# end time\n",
    "end = time()\n",
    "\n",
    "model_gbt.avgMetrics\n",
    "# http://spark.apache.org/docs/latest/api/python/pyspark.ml.html?highlight=avgmetric#pyspark.ml.tuning.CrossValidatorModel.avgMetrics\n",
    "\n",
    "# print the time span of the process\n",
    "print('The training process took {} seconds'.format(end - start))\n"
   ]
  },
  {
   "cell_type": "code",
   "execution_count": 41,
   "metadata": {},
   "outputs": [
    {
     "name": "stdout",
     "output_type": "stream",
     "text": [
      "Gradient Boosted Trees Metrics: \n",
      "Accuracy: 0.7142857142857143\n",
      "F1: 0.7142857142857142\n"
     ]
    }
   ],
   "source": [
    "# transform validation set\n",
    "result_gbt = model_gbt.transform(validation)\n",
    "# http://spark.apache.org/docs/latest/api/python/pyspark.ml.html?highlight=transform#pyspark.ml.classification.LogisticRegressionModel.transform\n",
    "\n",
    "# set evaluator for prediction\n",
    "evaluator = MulticlassClassificationEvaluator(predictionCol ='prediction')\n",
    "# http://spark.apache.org/docs/latest/api/python/pyspark.ml.html?highlight=multiclassclassificationevaluator#pyspark.ml.evaluation.MulticlassClassificationEvaluator\n",
    "\n",
    "# print accurcay & f1 score of GBT\n",
    "print('Gradient Boosted Trees Metrics: ')\n",
    "print('Accuracy: {}'.format(evaluator.evaluate(result_gbt, {evaluator.metricName: 'accuracy'})))\n",
    "print('F1: {}'.format(evaluator.evaluate(result_gbt, {evaluator.metricName: 'f1'})))\n",
    "# http://spark.apache.org/docs/latest/api/python/pyspark.ml.html?highlight=evaluate#pyspark.ml.evaluation.MulticlassClassificationEvaluator.evaluate"
   ]
  },
  {
   "cell_type": "code",
   "execution_count": 35,
   "metadata": {},
   "outputs": [
    {
     "name": "stdout",
     "output_type": "stream",
     "text": [
      "The training process took 741.0048565864563 seconds\n",
      "Support Vector Machine Metrics: \n",
      "Accuracy: 0.7959183673469388\n",
      "F1: 0.7054730983302412\n"
     ]
    }
   ],
   "source": [
    "# Support Vector Machine\n",
    "## Initialize Classifier with 10 iterations\n",
    "svm = LinearSVC(maxIter = 10)\n",
    "# http://spark.apache.org/docs/latest/api/python/pyspark.ml.html?highlight=linearsvc#pyspark.ml.classification.LinearSVC\n",
    "\n",
    "# Set Evaluator\n",
    "evaluator = MulticlassClassificationEvaluator(metricName = 'f1')\n",
    "# http://spark.apache.org/docs/latest/api/python/pyspark.ml.html?highlight=multiclassclassificationevaluator#pyspark.ml.evaluation.MulticlassClassificationEvaluator\n",
    "\n",
    "# build paramGrid\n",
    "grid = ParamGridBuilder().build()\n",
    "# http://spark.apache.org/docs/latest/api/python/pyspark.ml.html?highlight=paramgrid#pyspark.ml.tuning.ParamGridBuilder\n",
    "\n",
    "# 3-fold cross valiation with paramgrid\n",
    "cv_svm = CrossValidator(estimator = svm,\\\n",
    "                            evaluator = evaluator,\\\n",
    "                            estimatorParamMaps = grid,\\\n",
    "                            numFolds = 3)\n",
    "# http://spark.apache.org/docs/latest/api/python/pyspark.ml.html?highlight=crossvalidator#pyspark.ml.tuning.CrossValidator\n",
    "\n",
    "# get start time\n",
    "start = time()\n",
    "# fit trainset\n",
    "model_svm = cv_svm.fit(train)\n",
    "# http://spark.apache.org/docs/latest/api/python/pyspark.ml.html?highlight=fit#pyspark.ml.classification.LogisticRegression.fit\n",
    "# end time\n",
    "end = time()\n",
    "\n",
    "model_svm.avgMetrics\n",
    "# http://spark.apache.org/docs/latest/api/python/pyspark.ml.html?highlight=avgmetric#pyspark.ml.tuning.CrossValidatorModel.avgMetrics\n",
    "\n",
    "# Print the time span of the process \n",
    "print('The training process took {} seconds'.format(end - start))\n",
    "\n",
    "# transform validation set\n",
    "result_svm = model_svm.transform(validation)\n",
    "# http://spark.apache.org/docs/latest/api/python/pyspark.ml.html?highlight=transform#pyspark.ml.classification.LogisticRegressionModel.transform\n",
    "\n",
    "# set evaluator for prediction\n",
    "evaluator = MulticlassClassificationEvaluator(predictionCol ='prediction')\n",
    "# http://spark.apache.org/docs/latest/api/python/pyspark.ml.html?highlight=multiclassclassificationevaluator#pyspark.ml.evaluation.MulticlassClassificationEvaluator\n",
    "\n",
    "# print accuracy and f1 score of SVM\n",
    "print('Support Vector Machine Metrics: ')\n",
    "print('Accuracy: {}'.format(evaluator.evaluate(result_svm, {evaluator.metricName: 'accuracy'})))\n",
    "print('F1: {}'.format(evaluator.evaluate(result_svm, {evaluator.metricName: 'f1'})))\n",
    "# http://spark.apache.org/docs/latest/api/python/pyspark.ml.html?highlight=evaluate#pyspark.ml.evaluation.MulticlassClassificationEvaluator.evaluate"
   ]
  },
  {
   "cell_type": "code",
   "execution_count": 66,
   "metadata": {},
   "outputs": [
    {
     "name": "stdout",
     "output_type": "stream",
     "text": [
      "The training process took 587.9695703983307 seconds\n",
      "Random Forest Metrics: \n",
      "Accuracy: 0.7959183673469388\n",
      "F1: 0.7871315192743764\n"
     ]
    }
   ],
   "source": [
    "# Random Forest\n",
    "# Initialize Classifier\n",
    "rf = RandomForestClassifier()\n",
    "# http://spark.apache.org/docs/latest/api/python/pyspark.ml.html?highlight=randomforest#pyspark.ml.classification.RandomForestClassifier\n",
    "\n",
    "# Set Evaluator\n",
    "evaluator = MulticlassClassificationEvaluator(metricName = 'f1')\n",
    "# http://spark.apache.org/docs/latest/api/python/pyspark.ml.html?highlight=multiclassclassificationevaluator#pyspark.ml.evaluation.MulticlassClassificationEvaluator\n",
    "\n",
    "# build paramGrid\n",
    "grid = ParamGridBuilder().build()\n",
    "# http://spark.apache.org/docs/latest/api/python/pyspark.ml.html?highlight=paramgrid#pyspark.ml.tuning.ParamGridBuilder\n",
    "\n",
    "# 3-fold cross validation\n",
    "cv_rf = CrossValidator(estimator = rf,\\\n",
    "                            evaluator = evaluator,\\\n",
    "                            estimatorParamMaps = grid,\\\n",
    "                            numFolds = 3)\n",
    "# http://spark.apache.org/docs/latest/api/python/pyspark.ml.html?highlight=crossvalidator#pyspark.ml.tuning.CrossValidator\n",
    "\n",
    "# set start time\n",
    "start = time()\n",
    "# fit train set\n",
    "model_rf = cv_rf.fit(train)\n",
    "# http://spark.apache.org/docs/latest/api/python/pyspark.ml.html?highlight=fit#pyspark.ml.classification.LogisticRegression.fit\n",
    "# end time\n",
    "end = time()\n",
    "# http://spark.apache.org/docs/latest/api/python/pyspark.ml.html?highlight=avgmetric#pyspark.ml.tuning.CrossValidatorModel.avgMetrics\n",
    "\n",
    "model_rf.avgMetrics\n",
    "# http://spark.apache.org/docs/latest/api/python/pyspark.ml.html?highlight=avgmetric#pyspark.ml.tuning.CrossValidatorModel.avgMetrics\n",
    "\n",
    "# print the time span of the process\n",
    "print('The training process took {} seconds'.format(end - start))\n",
    "\n",
    "# transform validation set\n",
    "result_rf = model_rf.transform(validation)\n",
    "# http://spark.apache.org/docs/latest/api/python/pyspark.ml.html?highlight=transform#pyspark.ml.classification.LogisticRegressionModel.transform\n",
    "\n",
    "# set evaluator for prediction\n",
    "evaluator = MulticlassClassificationEvaluator(predictionCol ='prediction')\n",
    "# http://spark.apache.org/docs/latest/api/python/pyspark.ml.html?highlight=multiclassclassificationevaluator#pyspark.ml.evaluation.MulticlassClassificationEvaluator\n",
    "\n",
    "# print accuracy and f1 score of RF\n",
    "print('Random Forest Metrics: ')\n",
    "print('Accuracy: {}'.format(evaluator.evaluate(result_rf, {evaluator.metricName: 'accuracy'})))\n",
    "print('F1: {}'.format(evaluator.evaluate(result_rf, {evaluator.metricName: 'f1'})))\n",
    "# http://spark.apache.org/docs/latest/api/python/pyspark.ml.html?highlight=evaluate#pyspark.ml.evaluation.MulticlassClassificationEvaluator.evaluate"
   ]
  },
  {
   "cell_type": "markdown",
   "metadata": {},
   "source": [
    "### 模型选择\n",
    "- 逻辑回归模型的准确率为: 0.7959 & F1 score: 0.7871, using 524.71 seconds.\n",
    "- 梯度提升树模型的准确率为: 0.7143 & F1 score:  0.7143, using 1088.89 seconds.\n",
    "- 支持向量机模型的准确率为: 0.7959 & F1 score: 0.7055, using 741.00 seconds.\n",
    "- 随机森林模型的准确率为: 0.7959 & F1 score: 0.7871, using 587.97 seconds.\n",
    "\n",
    "通过比较上述结构，以目前小数据量的数据集上的表现上来看，逻辑回归和随机森林同时达到了最高的准确率和F1值，并且耗时几乎差不多。梯度提升树模型的准确率和F1值一致，并高于支持向量机的F1值，但时间开销是目前四个模型中最大的，几乎为随机森林的一倍。考虑到12G的全数据下，逻辑回归将显出更大的欠拟合，和支持向量机一样会大幅度增加时间开销。梯度提升树和随机森林被选择为进一步调优的模型，同时其算法所带的功能可直接反应出各特征对于分类的重要性，这将对进一步优化特征选择起到极大的作用。\n",
    "\n"
   ]
  },
  {
   "cell_type": "code",
   "execution_count": 37,
   "metadata": {},
   "outputs": [],
   "source": [
    "# Hyperparams Tunning GBT\n",
    "# initalize GBT classifier \n",
    "gbt = GBTClassifier()\n",
    "\n",
    "# build paramGrid in 5-10 maxDepth and 10-15 maxIter\n",
    "paramGrid_gbt = ParamGridBuilder()\\\n",
    "    .addGrid(gbt.maxDepth, [5,10])\\\n",
    "    .addGrid(gbt.maxIter, [10,15])\\\n",
    "    .build()\n",
    "# http://spark.apache.org/docs/latest/api/python/pyspark.ml.html?highlight=paramgrid#pyspark.ml.tuning.ParamGridBuilder\n",
    "\n",
    "# set evaluator\n",
    "f1_evaluator = MulticlassClassificationEvaluator(metricName = 'f1')\n",
    "# http://spark.apache.org/docs/latest/api/python/pyspark.ml.html?highlight=multiclassclassificationevaluator#pyspark.ml.evaluation.MulticlassClassificationEvaluator\n",
    "\n",
    "# 3-fold cross validation\n",
    "crossval_gbt = CrossValidator(estimator = gbt, \\\n",
    "                             estimatorParamMaps = paramGrid_gbt,\\\n",
    "                             evaluator = f1_evaluator,\\\n",
    "                             numFolds = 3)\n",
    "# http://spark.apache.org/docs/latest/api/python/pyspark.ml.html?highlight=crossvalidator#pyspark.ml.tuning.CrossValidator"
   ]
  },
  {
   "cell_type": "code",
   "execution_count": 38,
   "metadata": {},
   "outputs": [
    {
     "data": {
      "text/plain": [
       "[0.7383246458917002, 0.7383246458917002, 0.738070131756161, 0.738070131756161]"
      ]
     },
     "execution_count": 38,
     "metadata": {},
     "output_type": "execute_result"
    }
   ],
   "source": [
    "# fit train set\n",
    "cvModel_gbt = crossval_gbt.fit(train)\n",
    "# get the best f1 score\n",
    "cvModel_gbt.avgMetrics\n",
    "# http://spark.apache.org/docs/latest/api/python/pyspark.ml.html?highlight=avgmetric#pyspark.ml.tuning.CrossValidatorModel.avgMetrics\n",
    "# the best f1 scores are higher than the prelimiary test"
   ]
  },
  {
   "cell_type": "code",
   "execution_count": 41,
   "metadata": {
    "scrolled": false
   },
   "outputs": [
    {
     "data": {
      "text/plain": [
       "[{Param(parent='GBTClassifier_b5f02be7b37c', name='maxDepth', doc='Maximum depth of the tree. (>= 0) E.g., depth 0 means 1 leaf node; depth 1 means 1 internal node + 2 leaf nodes.'): 5,\n",
       "  Param(parent='GBTClassifier_b5f02be7b37c', name='maxIter', doc='max number of iterations (>= 0).'): 10},\n",
       " {Param(parent='GBTClassifier_b5f02be7b37c', name='maxDepth', doc='Maximum depth of the tree. (>= 0) E.g., depth 0 means 1 leaf node; depth 1 means 1 internal node + 2 leaf nodes.'): 5,\n",
       "  Param(parent='GBTClassifier_b5f02be7b37c', name='maxIter', doc='max number of iterations (>= 0).'): 15},\n",
       " {Param(parent='GBTClassifier_b5f02be7b37c', name='maxDepth', doc='Maximum depth of the tree. (>= 0) E.g., depth 0 means 1 leaf node; depth 1 means 1 internal node + 2 leaf nodes.'): 10,\n",
       "  Param(parent='GBTClassifier_b5f02be7b37c', name='maxIter', doc='max number of iterations (>= 0).'): 10},\n",
       " {Param(parent='GBTClassifier_b5f02be7b37c', name='maxDepth', doc='Maximum depth of the tree. (>= 0) E.g., depth 0 means 1 leaf node; depth 1 means 1 internal node + 2 leaf nodes.'): 10,\n",
       "  Param(parent='GBTClassifier_b5f02be7b37c', name='maxIter', doc='max number of iterations (>= 0).'): 15}]"
      ]
     },
     "execution_count": 41,
     "metadata": {},
     "output_type": "execute_result"
    }
   ],
   "source": [
    "# get the corresponding maxDepth and maxIter of the best f1 score\n",
    "cvModel_gbt.getEstimatorParamMaps()\n",
    "# http://spark.apache.org/docs/latest/api/python/pyspark.ml.html?highlight=getestimatorparammaps#pyspark.ml.tuning.CrossValidator.getEstimatorParamMaps"
   ]
  },
  {
   "cell_type": "code",
   "execution_count": 43,
   "metadata": {},
   "outputs": [],
   "source": [
    "# best GBT model with maxDepth 5 and maxIter 10\n",
    "gbt_best = GBTClassifier( maxDepth = 5, maxIter = 10, seed =42)\n",
    "# fit train set\n",
    "gbt_best_model = gbt_best.fit(train)\n",
    "# transform test set \n",
    "results_final = gbt_best_model.transform(test)"
   ]
  },
  {
   "cell_type": "code",
   "execution_count": 44,
   "metadata": {},
   "outputs": [
    {
     "name": "stdout",
     "output_type": "stream",
     "text": [
      "Test Set Metrics: \n",
      "Accuracy: 0.7941176470588235\n",
      "F-1 Score: 0.7820069204152248\n"
     ]
    }
   ],
   "source": [
    "# final resuls metrics from GBT\n",
    "evaluator = MulticlassClassificationEvaluator(predictionCol = 'prediction')\n",
    "# http://spark.apache.org/docs/latest/api/python/pyspark.ml.html?highlight=multiclassclassificationevaluator#pyspark.ml.evaluation.MulticlassClassificationEvaluator\n",
    "\n",
    "# Print accuracy and f1 score\n",
    "print(\"Test Set Metrics: \")\n",
    "print('Accuracy: {}'.format(evaluator.evaluate(results_final, {evaluator.metricName: 'accuracy'})))\n",
    "print('F-1 Score: {}'.format(evaluator.evaluate(results_final, {evaluator.metricName: 'f1'})))\n",
    "# http://spark.apache.org/docs/latest/api/python/pyspark.ml.html?highlight=evaluate#pyspark.ml.evaluation.MulticlassClassificationEvaluator.evaluate"
   ]
  },
  {
   "cell_type": "code",
   "execution_count": 45,
   "metadata": {
    "scrolled": true
   },
   "outputs": [
    {
     "data": {
      "text/plain": [
       "Text(0.5,1,'GBT Feature Importances')"
      ]
     },
     "execution_count": 45,
     "metadata": {},
     "output_type": "execute_result"
    },
    {
     "data": {
      "image/png": "[encoded data removed]",
      "text/plain": [
       "<matplotlib.figure.Figure at 0x7f4de87386d8>"
      ]
     },
     "metadata": {},
     "output_type": "display_data"
    }
   ],
   "source": [
    "# features importance from GBT model\n",
    "feat_imp_GBT = gbt_best_model.featureImportances.values\n",
    "# http://spark.apache.org/docs/latest/api/python/pyspark.ml.html?highlight=featureimportances#pyspark.ml.classification.GBTClassificationModel.featureImportances\n",
    "\n",
    "# set y axis\n",
    "cols = ['lifetime', 'num_songs', 'num_thumb_up', \\\n",
    "        'num_thumb_down', 'add_to_playlist','add_friend', 'total_listen',\\\n",
    "       'avg_songs_played', 'gender', 'mum_artist']\n",
    "y_pos = np.arange(len(cols))\n",
    "\n",
    "# draw horizontal barplot to show feature importances\n",
    "plt.barh(y_pos, feat_imp_GBT, align = 'center')\n",
    "plt.yticks(y_pos, cols)\n",
    "plt.xlabel(\"Importance Score\")\n",
    "plt.title(\"GBT Feature Importances\")\n",
    "# https://matplotlib.org/api/_as_gen/matplotlib.pyplot.barh.html?highlight=barh#matplotlib.pyplot.barh"
   ]
  },
  {
   "cell_type": "code",
   "execution_count": 46,
   "metadata": {},
   "outputs": [],
   "source": [
    "# Hyperparams Tuing Random Forest\n",
    "rf = RandomForestClassifier()\n",
    "# http://spark.apache.org/docs/latest/api/python/pyspark.ml.html?highlight=randomforest#pyspark.ml.classification.RandomForestClassifier\n",
    "\n",
    "# Set Evaluator\n",
    "evaluator = MulticlassClassificationEvaluator(metricName = 'f1')\n",
    "# http://spark.apache.org/docs/latest/api/python/pyspark.ml.html?highlight=multiclassclassificationevaluator#pyspark.ml.evaluation.MulticlassClassificationEvaluator\n",
    "\n",
    "# build paramGrid with 5-50 maxDepth and 10-100 numTrees\n",
    "paramGrid_rf = ParamGridBuilder().addGrid(rf.maxDepth, [5,50])\\\n",
    "                .addGrid(rf.numTrees, [10,100]).build()\n",
    "# http://spark.apache.org/docs/latest/api/python/pyspark.ml.html?highlight=paramgrid#pyspark.ml.tuning.ParamGridBuilder\n",
    "\n",
    "# 3-fold cross validation\n",
    "cv_rf = CrossValidator(estimator = rf,\\\n",
    "                            evaluator = evaluator,\\\n",
    "                            estimatorParamMaps = grid,\\\n",
    "                            numFolds = 3)\n",
    "# http://spark.apache.org/docs/latest/api/python/pyspark.ml.html?highlight=crossvalidator#pyspark.ml.tuning.CrossValidator"
   ]
  },
  {
   "cell_type": "code",
   "execution_count": 48,
   "metadata": {},
   "outputs": [
    {
     "data": {
      "text/plain": [
       "[0.741186854250764]"
      ]
     },
     "execution_count": 48,
     "metadata": {},
     "output_type": "execute_result"
    }
   ],
   "source": [
    "# fit train set\n",
    "cvModel_rf = cv_rf.fit(train)\n",
    "# get the best f1 \n",
    "cvModel_rf.avgMetrics\n",
    "# http://spark.apache.org/docs/latest/api/python/pyspark.ml.html?highlight=avgmetric#pyspark.ml.tuning.CrossValidatorModel.avgMetrics\n",
    "# the best f1 score is lower than the score obtained in the preliminary test"
   ]
  },
  {
   "cell_type": "code",
   "execution_count": 63,
   "metadata": {},
   "outputs": [
    {
     "data": {
      "text/plain": [
       "{Param(parent='CrossValidatorModel_3645a9d055ab', name='seed', doc='random seed.'): -8408287757015260476,\n",
       " Param(parent='CrossValidatorModel_3645a9d055ab', name='estimator', doc='estimator to be cross-validated'): RandomForestClassifier_1ff1a04f9e25,\n",
       " Param(parent='CrossValidatorModel_3645a9d055ab', name='estimatorParamMaps', doc='estimator param maps'): [{}],\n",
       " Param(parent='CrossValidatorModel_3645a9d055ab', name='evaluator', doc='evaluator used to select hyper-parameters that maximize the validator metric'): MulticlassClassificationEvaluator_6b03453895b5}"
      ]
     },
     "execution_count": 63,
     "metadata": {},
     "output_type": "execute_result"
    }
   ],
   "source": [
    "# extract Param Map of the best f1\n",
    "cvModel_rf.extractParamMap()\n",
    "# http://spark.apache.org/docs/latest/api/python/pyspark.ml.html?highlight=extractparammap#pyspark.ml.classification.RandomForestClassifier.extractParamMap\n",
    "# estimatorParamMaps is [{}]"
   ]
  },
  {
   "cell_type": "code",
   "execution_count": 64,
   "metadata": {},
   "outputs": [],
   "source": [
    "# best RF model as the default model\n",
    "rf_best = RandomForestClassifier()\n",
    "# fit train set\n",
    "rf_best_model = rf_best.fit(train)\n",
    "# transfomr test set\n",
    "results_final_rf = rf_best_model.transform(test)"
   ]
  },
  {
   "cell_type": "code",
   "execution_count": 67,
   "metadata": {},
   "outputs": [
    {
     "name": "stdout",
     "output_type": "stream",
     "text": [
      "Test Set Metrics: \n",
      "Accuracy: 0.8235294117647058\n",
      "F-1 Score: 0.7955182072829133\n"
     ]
    }
   ],
   "source": [
    "# final resuls metrics from RF\n",
    "# set evaluator \n",
    "evaluator = MulticlassClassificationEvaluator(predictionCol = 'prediction')\n",
    "# http://spark.apache.org/docs/latest/api/python/pyspark.ml.html?highlight=multiclassclassificationevaluator#pyspark.ml.evaluation.MulticlassClassificationEvaluator\n",
    "\n",
    "# Print accuracy and f1 score\n",
    "print(\"Test Set Metrics: \")\n",
    "print('Accuracy: {}'.format(evaluator.evaluate(results_final_rf, {evaluator.metricName: 'accuracy'})))\n",
    "print('F-1 Score: {}'.format(evaluator.evaluate(results_final_rf, {evaluator.metricName: 'f1'})))\n",
    "# # http://spark.apache.org/docs/latest/api/python/pyspark.ml.html?highlight=evaluate#pyspark.ml.evaluation.MulticlassClassificationEvaluator.evaluate"
   ]
  },
  {
   "cell_type": "code",
   "execution_count": 65,
   "metadata": {},
   "outputs": [
    {
     "data": {
      "text/plain": [
       "Text(0.5,1,'RF Feature Importances')"
      ]
     },
     "execution_count": 65,
     "metadata": {},
     "output_type": "execute_result"
    },
    {
     "data": {
      "image/png": "[encoded data removed]",
      "text/plain": [
       "<matplotlib.figure.Figure at 0x7f4de8681e80>"
      ]
     },
     "metadata": {},
     "output_type": "display_data"
    }
   ],
   "source": [
    "# features importance from RF model\n",
    "# get feature importances\n",
    "feat_imp_rf= rf_best_model.featureImportances.values\n",
    "# http://spark.apache.org/docs/latest/api/python/pyspark.ml.html?highlight=featureimportances#pyspark.ml.classification.GBTClassificationModel.featureImportances\n",
    "\n",
    "# set y axis\n",
    "cols = ['lifetime', 'num_songs', 'num_thumb_up', \\\n",
    "        'num_thumb_down', 'add_to_playlist','add_friend', 'total_listen',\\\n",
    "       'avg_songs_played', 'gender', 'mum_artist']\n",
    "y_pos = np.arange(len(cols))\n",
    "\n",
    "# draw horizontal barplot\n",
    "plt.barh(y_pos, feat_imp_rf, align = 'center')\n",
    "plt.yticks(y_pos, cols)\n",
    "plt.xlabel(\"Importance Score\")\n",
    "plt.title(\"RF Feature Importances\")\n",
    "# https://matplotlib.org/api/_as_gen/matplotlib.pyplot.barh.html?highlight=barh#matplotlib.pyplot.barh"
   ]
  },
  {
   "cell_type": "markdown",
   "metadata": {},
   "source": [
    "# 结论\n",
    "- 由梯度提升树和随机森林模型调优后所得准确率和f1值对比可知，随机森林的结果略优于梯度提升树。\n",
    "- 从特征重要性对比可知，两种模型所要求对于分类的特征重要性基本一致，lefttime即用户的使用时间对于是否churn及其重要，num_thumb_down,add_friends, avg_songs_played,及num_artist。\n"
   ]
  },
  {
   "cell_type": "code",
   "execution_count": 73,
   "metadata": {},
   "outputs": [
    {
     "name": "stdout",
     "output_type": "stream",
     "text": [
      "Test Set Metrics in GBT: \n",
      "Accuracy: 0.7941176470588235\n",
      "F-1 Score: 0.7820069204152248\n",
      "-----------------------------------------\n",
      "Test Set Metrics in RF: \n",
      "Accuracy: 0.8235294117647058\n",
      "F-1 Score: 0.7955182072829133\n"
     ]
    }
   ],
   "source": [
    "# final resuls metrics\n",
    "evaluator = MulticlassClassificationEvaluator(predictionCol = 'prediction')\n",
    "print(\"Test Set Metrics in GBT: \")\n",
    "print('Accuracy: {}'.format(evaluator.evaluate(results_final, {evaluator.metricName: 'accuracy'})))\n",
    "print('F-1 Score: {}'.format(evaluator.evaluate(results_final, {evaluator.metricName: 'f1'})))\n",
    "print('-----------------------------------------')\n",
    "\n",
    "print(\"Test Set Metrics in RF: \")\n",
    "print('Accuracy: {}'.format(evaluator.evaluate(results_final_rf, {evaluator.metricName: 'accuracy'})))\n",
    "print('F-1 Score: {}'.format(evaluator.evaluate(results_final_rf, {evaluator.metricName: 'f1'})))"
   ]
  },
  {
   "cell_type": "code",
   "execution_count": 74,
   "metadata": {},
   "outputs": [
    {
     "data": {
      "text/plain": [
       "Text(0.5,1,'GBT Feature Importances')"
      ]
     },
     "execution_count": 74,
     "metadata": {},
     "output_type": "execute_result"
    },
    {
     "data": {
      "image/png": "[encoded data removed]",
      "text/plain": [
       "<matplotlib.figure.Figure at 0x7f4de84dce48>"
      ]
     },
     "metadata": {},
     "output_type": "display_data"
    }
   ],
   "source": [
    "# draw the comprison of feature importances between two models\n",
    "# set y axis\n",
    "cols = ['lifetime', 'num_songs', 'num_thumb_up', \\\n",
    "        'num_thumb_down', 'add_to_playlist','add_friend', 'total_listen',\\\n",
    "       'avg_songs_played', 'gender', 'mum_artist']\n",
    "y_pos = np.arange(len(cols))\n",
    "# set figure size 20*10\n",
    "plt.figure(figsize = (20, 10))\n",
    "\n",
    "# left subplot\n",
    "plt.subplot(1,2,1)\n",
    "plt.barh(y_pos, feat_imp_rf, align = 'center')\n",
    "plt.yticks(y_pos, cols)\n",
    "plt.xlabel(\"Importance Score\")\n",
    "plt.title(\"RF Feature Importances\")\n",
    "\n",
    "# right subplot\n",
    "plt.subplot(1,2,2)\n",
    "plt.yticks(y_pos, '')\n",
    "plt.barh(y_pos, feat_imp, align = 'center')\n",
    "plt.xlabel(\"Importance Score\")\n",
    "plt.title(\"GBT Feature Importances\")\n",
    "# https://matplotlib.org/api/_as_gen/matplotlib.figure.Figure.html?highlight=figure%20figsize\n",
    "# https://matplotlib.org/api/_as_gen/matplotlib.pyplot.subplot.html?highlight=subplot#matplotlib.pyplot.subplot\n",
    "# https://matplotlib.org/api/_as_gen/matplotlib.pyplot.barh.html?highlight=barh#matplotlib.pyplot.barh"
   ]
  },
  {
   "cell_type": "markdown",
   "metadata": {},
   "source": [
    "# 最后一步\n",
    "清理你的代码，添加注释和重命名变量，使得代码更易读和易于维护。参考 Spark 项目概述页面和数据科学家毕业项目审阅要求，确保你的项目包含了毕业项目要求的所有内容，并且满足所有审阅要求。记得在 GitHub 代码库里包含一份全面的文档——README文件，以及一个网络应用程序或博客文章。"
   ]
  }
 ],
 "metadata": {
  "kernelspec": {
   "display_name": "Python 3",
   "language": "python",
   "name": "python3"
  },
  "language_info": {
   "codemirror_mode": {
    "name": "ipython",
    "version": 3
   },
   "file_extension": ".py",
   "mimetype": "text/x-python",
   "name": "python",
   "nbconvert_exporter": "python",
   "pygments_lexer": "ipython3",
   "version": "3.6.3"
  }
 },
 "nbformat": 4,
 "nbformat_minor": 2
}
